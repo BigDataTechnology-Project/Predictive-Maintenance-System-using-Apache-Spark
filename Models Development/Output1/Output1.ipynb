{
 "cells": [
  {
   "cell_type": "markdown",
   "id": "b3fe2ca1",
   "metadata": {},
   "source": [
    "### Importing Libraries"
   ]
  },
  {
   "cell_type": "code",
   "execution_count": 1,
   "id": "b4a84a69",
   "metadata": {
    "ExecuteTime": {
     "end_time": "2024-10-20T13:33:27.672850Z",
     "start_time": "2024-10-20T13:33:27.473501Z"
    }
   },
   "outputs": [],
   "source": [
    "from pyspark.sql import SparkSession\n",
    "import findspark\n",
    "findspark.init() # Initialize findspark to locate Spark\n",
    "from pyspark.sql.window import Window"
   ]
  },
  {
   "cell_type": "markdown",
   "id": "089943a3",
   "metadata": {},
   "source": [
    "### Setup SparkSession"
   ]
  },
  {
   "cell_type": "code",
   "execution_count": 2,
   "id": "2a342fde",
   "metadata": {
    "ExecuteTime": {
     "end_time": "2024-10-20T13:33:34.313123Z",
     "start_time": "2024-10-20T13:33:27.775347Z"
    },
    "scrolled": true
   },
   "outputs": [
    {
     "name": "stderr",
     "output_type": "stream",
     "text": [
      "WARNING: Using incubator modules: jdk.incubator.vector\n",
      "Using Spark's default log4j profile: org/apache/spark/log4j2-defaults.properties\n",
      "{\"ts\":\"2024-10-20T13:33:29.489Z\",\"level\":\"WARN\",\"msg\":\"Your hostname, beboy-ThinkPad-E14-Gen-5, resolves to a loopback address: 127.0.1.1; using 192.168.1.14 instead (on interface wlp0s20f3)\",\"context\":{\"host\":\"beboy-ThinkPad-E14-Gen-5\",\"host_port\":\"127.0.1.1\",\"host_port2\":\"192.168.1.14\",\"network_if\":\"wlp0s20f3\"},\"logger\":\"Utils\"}\n",
      "{\"ts\":\"2024-10-20T13:33:29.494Z\",\"level\":\"WARN\",\"msg\":\"Set SPARK_LOCAL_IP if you need to bind to another address\",\"logger\":\"Utils\"}\n",
      "Using Spark's default log4j profile: org/apache/spark/log4j2-pattern-layout-defaults.properties\n",
      "Setting default log level to \"WARN\".\n",
      "To adjust logging level use sc.setLogLevel(newLevel). For SparkR, use setLogLevel(newLevel).\n",
      "24/10/20 20:33:30 WARN NativeCodeLoader: Unable to load native-hadoop library for your platform... using builtin-java classes where applicable\n",
      "Setting Spark log level to \"ERROR\".\n"
     ]
    }
   ],
   "source": [
    "# Create a Spark session\n",
    "# This is the entry point to programming Spark with the DataFrame API\n",
    "# spark = SparkSession \\\n",
    "#     .builder \\\n",
    "#     .appName(\"Predictive Maintenance System\") \\\n",
    "#     .getOrCreate()\n",
    "# Clone về thì mọi người chạy code trên vì code dưới t avoid đi mấy cái warning\n",
    "\n",
    "try:\n",
    "    # Get active SparkSession if it exists\n",
    "    active_spark = SparkSession.builder.getOrCreate()\n",
    "    # Stop it\n",
    "    active_spark.stop()\n",
    "except:\n",
    "    pass\n",
    "\n",
    "# Create new session\n",
    "spark = SparkSession \\\n",
    "    .builder \\\n",
    "    .appName(\"Model Development of Output1\") \\\n",
    "    .config(\"spark.driver.bindAddress\", \"127.0.0.1\") \\\n",
    "    .config(\"spark.ui.showConsoleProgress\", \"false\") \\\n",
    "    .config(\"spark.log.level\", \"ERROR\") \\\n",
    "    .config(\"spark.driver.memory\", \"16g\")  \\\n",
    "    .config(\"spark.executor.memory\", \"16g\") \\\n",
    "    .config(\"spark.memory.fraction\", \"0.8\") \\\n",
    "    .getOrCreate()\n",
    "\n",
    "spark.sparkContext.setLogLevel(\"ERROR\")"
   ]
  },
  {
   "cell_type": "markdown",
   "id": "cd6261f31f7d57dc",
   "metadata": {},
   "source": [
    "### Load and Read Dataset"
   ]
  },
  {
   "cell_type": "code",
   "execution_count": 3,
   "id": "deff2a78",
   "metadata": {
    "ExecuteTime": {
     "end_time": "2024-10-20T13:33:52.694415Z",
     "start_time": "2024-10-20T13:33:34.412698Z"
    }
   },
   "outputs": [
    {
     "name": "stdout",
     "output_type": "stream",
     "text": [
      "+------------+--------------------+-----------+----------+---------+----------------+------------+-----------+---------+----------+-------------+----------+-------------+--------------------+---------------+------------+--------------------+-----------------------+---------------------+--------------------+---------+-----------+----------------+--------------------+-------------+--------------+---------+--------------+------------------+--------------------+---------------+---------------+--------------+-----------+------------+--------------------+-------------------+----------------+--------------------+----------------------+------------------+-------------------+------------------+-------------------+-----------------+---------------------------+--------------------------+-------------+-------------------+------------------------+--------------------------+--------------------+----------------------------+----------------------+\n",
      "|equipment_id|           timestamp|temperature| vibration| pressure|rotational_speed|power_output|noise_level|  voltage|   current|oil_viscosity|     model| manufacturer|   installation_date|max_temperature|max_pressure|max_rotational_speed|expected_lifetime_years|warranty_period_years| last_major_overhaul| location|criticality|maintenance_type|         description|technician_id|duration_hours|     cost|parts_replaced|maintenance_result|    maintenance_date|production_rate|operating_hours|downtime_hours|operator_id|product_type|raw_material_quality|ambient_temperature|ambient_humidity|      operation_date|days_since_maintenance|equipment_age_days|days_since_overhaul|   temp_pct_of_max|pressure_pct_of_max| speed_pct_of_max|cumulative_maintenance_cost|cumulative_operating_hours|estimated_rul|criticality_encoded|maintenance_type_encoded|maintenance_result_encoded|product_type_encoded|raw_material_quality_encoded|parts_replaced_encoded|\n",
      "+------------+--------------------+-----------+----------+---------+----------------+------------+-----------+---------+----------+-------------+----------+-------------+--------------------+---------------+------------+--------------------+-----------------------+---------------------+--------------------+---------+-----------+----------------+--------------------+-------------+--------------+---------+--------------+------------------+--------------------+---------------+---------------+--------------+-----------+------------+--------------------+-------------------+----------------+--------------------+----------------------+------------------+-------------------+------------------+-------------------+-----------------+---------------------------+--------------------------+-------------+-------------------+------------------------+--------------------------+--------------------+----------------------------+----------------------+\n",
      "|           1|2021-10-10 13:33:...|  63.102325|  0.583735|111.57932|        978.9937|    579.5041|  72.580185| 217.1716| 116.37518|     42.70299|Model-1951|ManufacturerC|2020-05-25 13:34:...|       83.86452|   187.45992|           1243.6407|             11.8686285|                    3|2025-04-03 13:34:...|Section-4|     Medium|         Routine|Routine maintenan...|           22|      6.964117|1218.1901|          None|        Successful|2024-08-12 13:34:...|       94.49336|       20.01369|    0.58859503|         89|       TypeA|                High|          22.501215|       32.179783|2021-10-10 13:34:...|                  1037|               503|               1271|  75.2431719635431|  59.52169402398123|78.71997917083287|                  1218.1901|                  20.01369| 3829.0494025|                0.0|                     2.0|                       0.0|                 1.0|                         0.0|                   0.0|\n",
      "|           1|2021-10-10 19:33:...|  66.560684| 0.5780538| 58.56234|       1109.8779|    485.0838|  76.433655|236.80861|  94.50009|     54.63073|Model-1951|ManufacturerC|2020-05-25 13:34:...|       83.86452|   187.45992|           1243.6407|             11.8686285|                    3|2025-04-03 13:34:...|Section-4|     Medium|         Routine|Routine maintenan...|           22|      6.964117|1218.1901|          None|        Successful|2024-08-12 13:34:...|       94.49336|       20.01369|    0.58859503|         89|       TypeA|                High|          22.501215|       32.179783|2021-10-10 13:34:...|                  1037|               503|               1271| 79.36691702283635| 31.239925846548957|89.24425680182388|                  2436.3802|                  40.02738| 3829.0494025|                0.0|                     2.0|                       0.0|                 1.0|                         0.0|                   0.0|\n",
      "|           1|2021-10-11 01:33:...|   47.79757|0.48461118| 56.58919|       1046.2716|   547.77606|  61.318645|224.70499| 91.184074|     53.11147|Model-1951|ManufacturerC|2020-05-25 13:34:...|       83.86452|   187.45992|           1243.6407|             11.8686285|                    3|2025-04-03 13:34:...|Section-4|     Medium|         Routine|Routine maintenan...|           22|      6.964117|1218.1901|          None|        Successful|2024-08-12 13:34:...|       91.30134|      20.773722|     1.3544766|         57|       TypeC|                High|          28.017666|        32.21979|2021-10-11 13:34:...|                  1036|               504|               1270|56.993791891970524|  30.18735418216331|84.12973296869426|         3654.5703000000003|                 60.801102| 3828.0494025|                0.0|                     2.0|                       0.0|                 0.0|                         0.0|                   0.0|\n",
      "|           1|2021-10-11 07:33:...|  53.125355|0.46519247|114.01153|       746.84045|    576.1142|   74.14918|  214.704|111.522675|     52.68492|Model-1951|ManufacturerC|2020-05-25 13:34:...|       83.86452|   187.45992|           1243.6407|             11.8686285|                    3|2025-04-03 13:34:...|Section-4|     Medium|         Routine|Routine maintenan...|           22|      6.964117|1218.1901|          None|        Successful|2024-08-12 13:34:...|       91.30134|      20.773722|     1.3544766|         57|       TypeC|                High|          28.017666|        32.21979|2021-10-11 13:34:...|                  1036|               504|               1270| 63.34663931779494|  60.81915003484477|60.05275076635881|                  4872.7604|                 81.574824| 3828.0494025|                0.0|                     2.0|                       0.0|                 0.0|                         0.0|                   0.0|\n",
      "|           1|2021-10-11 13:33:...|  53.964127|0.49352926|  98.2447|       1109.0782|    524.4226|   67.25192|219.81172|112.519264|      50.9315|Model-1951|ManufacturerC|2020-05-25 13:34:...|       83.86452|   187.45992|           1243.6407|             11.8686285|                    3|2025-04-03 13:34:...|Section-4|     Medium|         Routine|Routine maintenan...|           22|      6.964117|1218.1901|          None|        Successful|2024-08-12 13:34:...|       91.30134|      20.773722|     1.3544766|         57|       TypeC|                High|          28.017666|        32.21979|2021-10-11 13:34:...|                  1036|               504|               1270| 64.34679051403383|  52.40837614781868|89.17995366346567|                  6090.9505|                102.348546| 3828.0494025|                0.0|                     2.0|                       0.0|                 0.0|                         0.0|                   0.0|\n",
      "|           1|2021-10-11 19:33:...|   70.08919|0.53343683| 127.6598|        857.4468|   552.23175|  69.872986|232.73808|  70.89996|    55.812145|Model-1951|ManufacturerC|2020-05-25 13:34:...|       83.86452|   187.45992|           1243.6407|             11.8686285|                    3|2025-04-03 13:34:...|Section-4|     Medium|         Routine|Routine maintenan...|           22|      6.964117|1218.1901|          None|        Successful|2024-08-12 13:34:...|       91.30134|      20.773722|     1.3544766|         57|       TypeC|                High|          28.017666|        32.21979|2021-10-11 13:34:...|                  1036|               504|               1270| 83.57430532005668|  68.09978367642535|68.94650520845772|                  7309.1406|        123.12226799999999| 3828.0494025|                0.0|                     2.0|                       0.0|                 0.0|                         0.0|                   0.0|\n",
      "|           1|2021-10-12 01:33:...|    74.9544| 0.5274393|102.39677|         969.122|   559.50836|   66.44574| 235.6383|   108.852|     54.44558|Model-1951|ManufacturerC|2020-05-25 13:34:...|       83.86452|   187.45992|           1243.6407|             11.8686285|                    3|2025-04-03 13:34:...|Section-4|     Medium|         Routine|Routine maintenan...|           22|      6.964117|1218.1901|          None|        Successful|2024-08-12 13:34:...|      89.607666|      20.424337|     0.3715631|         12|       TypeC|                High|          20.725971|       57.952446|2021-10-12 13:34:...|                  1035|               505|               1269| 89.37557861178959|  54.62328694048306|77.92620489181482|                  8527.3307|                143.546605| 3827.0494025|                0.0|                     2.0|                       0.0|                 0.0|                         0.0|                   0.0|\n",
      "|           1|2021-10-12 07:33:...|  59.535942|0.44953424|113.06311|       1087.7844|   486.14938|  60.069717| 223.2198| 101.14837|    47.730507|Model-1951|ManufacturerC|2020-05-25 13:34:...|       83.86452|   187.45992|           1243.6407|             11.8686285|                    3|2025-04-03 13:34:...|Section-4|     Medium|         Routine|Routine maintenan...|           22|      6.964117|1218.1901|          None|        Successful|2024-08-12 13:34:...|      89.607666|      20.424337|     0.3715631|         12|       TypeC|                High|          20.725971|       57.952446|2021-10-12 13:34:...|                  1035|               505|               1269| 70.99061915575263| 60.313217886788806|87.46773887345437|                  9745.5208|                163.970942| 3827.0494025|                0.0|                     2.0|                       0.0|                 0.0|                         0.0|                   0.0|\n",
      "|           1|2021-10-12 13:33:...|  56.412777|0.34479618|122.28977|       990.41327|   466.04745|   68.80365|211.35019|  94.41844|    46.694633|Model-1951|ManufacturerC|2020-05-25 13:34:...|       83.86452|   187.45992|           1243.6407|             11.8686285|                    3|2025-04-03 13:34:...|Section-4|     Medium|         Routine|Routine maintenan...|           22|      6.964117|1218.1901|          None|        Successful|2024-08-12 13:34:...|      89.607666|      20.424337|     0.3715631|         12|       TypeC|                High|          20.725971|       57.952446|2021-10-12 13:34:...|                  1035|               505|               1269|  67.2665592076363|  65.23515533347076|79.63821624686295|                 10963.7109|        184.39527900000002| 3827.0494025|                0.0|                     2.0|                       0.0|                 0.0|                         0.0|                   0.0|\n",
      "|           1|2021-10-12 19:33:...|  63.212658| 0.5264704|111.12285|       1112.3331|   530.98645|    70.8878|230.28967|  90.37491|     53.20653|Model-1951|ManufacturerC|2020-05-25 13:34:...|       83.86452|   187.45992|           1243.6407|             11.8686285|                    3|2025-04-03 13:34:...|Section-4|     Medium|         Routine|Routine maintenan...|           22|      6.964117|1218.1901|          None|        Successful|2024-08-12 13:34:...|      89.607666|      20.424337|     0.3715631|         12|       TypeC|                High|          20.725971|       57.952446|2021-10-12 13:34:...|                  1035|               505|               1269| 75.37473296216326| 59.278191306173596|89.44167716608182|                  12181.901|        204.81961600000002| 3827.0494025|                0.0|                     2.0|                       0.0|                 0.0|                         0.0|                   0.0|\n",
      "+------------+--------------------+-----------+----------+---------+----------------+------------+-----------+---------+----------+-------------+----------+-------------+--------------------+---------------+------------+--------------------+-----------------------+---------------------+--------------------+---------+-----------+----------------+--------------------+-------------+--------------+---------+--------------+------------------+--------------------+---------------+---------------+--------------+-----------+------------+--------------------+-------------------+----------------+--------------------+----------------------+------------------+-------------------+------------------+-------------------+-----------------+---------------------------+--------------------------+-------------+-------------------+------------------------+--------------------------+--------------------+----------------------------+----------------------+\n",
      "only showing top 10 rows\n",
      "\n"
     ]
    }
   ],
   "source": [
    "# Read the dataset from a CSV file\n",
    "df = spark.read.csv('/home/beboy/Documents/projects/Predictive-Maintenance-System-using-Apache-Spark/Models Development/dataset/final_data_update.csv', header=True, inferSchema=True)\n",
    "\n",
    "# Show the first 5 rows of the DataFrame to verify the data\n",
    "df.show(10)"
   ]
  },
  {
   "cell_type": "code",
   "execution_count": 4,
   "id": "5e056bf72b5be352",
   "metadata": {
    "ExecuteTime": {
     "end_time": "2024-10-20T13:33:52.750864Z",
     "start_time": "2024-10-20T13:33:52.743670Z"
    }
   },
   "outputs": [
    {
     "name": "stdout",
     "output_type": "stream",
     "text": [
      "root\n",
      " |-- equipment_id: integer (nullable = true)\n",
      " |-- timestamp: timestamp (nullable = true)\n",
      " |-- temperature: double (nullable = true)\n",
      " |-- vibration: double (nullable = true)\n",
      " |-- pressure: double (nullable = true)\n",
      " |-- rotational_speed: double (nullable = true)\n",
      " |-- power_output: double (nullable = true)\n",
      " |-- noise_level: double (nullable = true)\n",
      " |-- voltage: double (nullable = true)\n",
      " |-- current: double (nullable = true)\n",
      " |-- oil_viscosity: double (nullable = true)\n",
      " |-- model: string (nullable = true)\n",
      " |-- manufacturer: string (nullable = true)\n",
      " |-- installation_date: timestamp (nullable = true)\n",
      " |-- max_temperature: double (nullable = true)\n",
      " |-- max_pressure: double (nullable = true)\n",
      " |-- max_rotational_speed: double (nullable = true)\n",
      " |-- expected_lifetime_years: double (nullable = true)\n",
      " |-- warranty_period_years: integer (nullable = true)\n",
      " |-- last_major_overhaul: timestamp (nullable = true)\n",
      " |-- location: string (nullable = true)\n",
      " |-- criticality: string (nullable = true)\n",
      " |-- maintenance_type: string (nullable = true)\n",
      " |-- description: string (nullable = true)\n",
      " |-- technician_id: integer (nullable = true)\n",
      " |-- duration_hours: double (nullable = true)\n",
      " |-- cost: double (nullable = true)\n",
      " |-- parts_replaced: string (nullable = true)\n",
      " |-- maintenance_result: string (nullable = true)\n",
      " |-- maintenance_date: timestamp (nullable = true)\n",
      " |-- production_rate: double (nullable = true)\n",
      " |-- operating_hours: double (nullable = true)\n",
      " |-- downtime_hours: double (nullable = true)\n",
      " |-- operator_id: integer (nullable = true)\n",
      " |-- product_type: string (nullable = true)\n",
      " |-- raw_material_quality: string (nullable = true)\n",
      " |-- ambient_temperature: double (nullable = true)\n",
      " |-- ambient_humidity: double (nullable = true)\n",
      " |-- operation_date: timestamp (nullable = true)\n",
      " |-- days_since_maintenance: integer (nullable = true)\n",
      " |-- equipment_age_days: integer (nullable = true)\n",
      " |-- days_since_overhaul: integer (nullable = true)\n",
      " |-- temp_pct_of_max: double (nullable = true)\n",
      " |-- pressure_pct_of_max: double (nullable = true)\n",
      " |-- speed_pct_of_max: double (nullable = true)\n",
      " |-- cumulative_maintenance_cost: double (nullable = true)\n",
      " |-- cumulative_operating_hours: double (nullable = true)\n",
      " |-- estimated_rul: double (nullable = true)\n",
      " |-- criticality_encoded: double (nullable = true)\n",
      " |-- maintenance_type_encoded: double (nullable = true)\n",
      " |-- maintenance_result_encoded: double (nullable = true)\n",
      " |-- product_type_encoded: double (nullable = true)\n",
      " |-- raw_material_quality_encoded: double (nullable = true)\n",
      " |-- parts_replaced_encoded: double (nullable = true)\n",
      "\n"
     ]
    }
   ],
   "source": [
    "df.printSchema()"
   ]
  },
  {
   "cell_type": "markdown",
   "id": "f6a50b3dc2443b52",
   "metadata": {},
   "source": [
    "### Setup Condition\n",
    "* Classify warnings based on device type refrigeration (cold) or heat generation (heat) to provide appropriate temperature thresholds for each device. This will help avoid giving incorrect warnings when the device is operating within the temperature range it is designed to handle.\n",
    "* Because there is no explicit information about the equipment type in the dataset, I will add a new column for the equipment type (equipment_type) to apply different temperature conditions to each type."
   ]
  },
  {
   "cell_type": "markdown",
   "id": "1841c54ecf950797",
   "metadata": {},
   "source": [
    "### Checking Outlier Again to Setup Condition\n",
    "* All the outlier must be risk to Danger"
   ]
  },
  {
   "cell_type": "code",
   "execution_count": 5,
   "id": "84468d2fe1630cd3",
   "metadata": {
    "ExecuteTime": {
     "end_time": "2024-10-20T13:33:52.985391Z",
     "start_time": "2024-10-20T13:33:52.980114Z"
    }
   },
   "outputs": [],
   "source": [
    "def detect_outliers(df, column):\n",
    "    # Calculate Q1, Q3 and IQR values\n",
    "    q1, q3 = df.approxQuantile(column, [0.25, 0.75], 0.01)\n",
    "    iqr = q3 - q1\n",
    "\n",
    "    # Calculate threshold for outliers\n",
    "    lower_bound = q1 - 1.5 * iqr\n",
    "    upper_bound = q3 + 1.5 * iqr\n",
    "\n",
    "    # Count the number of outliers\n",
    "    outlier_count = df.filter((F.col(column) < lower_bound) | (F.col(column) > upper_bound)).count()\n",
    "    \n",
    "    # Đánh dấu cột mới là 'Danger' nếu là ngoại lai, nếu không thì 'Normal' tránh trường hợp xung đột kiểu dữ liệu\n",
    "    # Ở đây sẽ đánh dấu tất cả ngoại lai cho giá trị Danger vì ngoại lai chắc chắn out range\n",
    "    return df.withColumn(\n",
    "        f\"{column}_is_outlier\",\n",
    "        F.when((F.col(column) < lower_bound) | (F.col(column) > upper_bound), \"Danger\")\n",
    "        .otherwise(\"not_outlier\") # ở đây những giá trị không phải outlier sẽ được lưu dưới giá trị not_outlier \n",
    "        # và chờ xử lý ở hàm điều kiện bên dưới, vì nó không outlier nhưng mình chưa biết nó Danger, Warning hay Normal\n",
    "    )"
   ]
  },
  {
   "cell_type": "markdown",
   "id": "666c1cf684cc4f59",
   "metadata": {},
   "source": [
    "### Calculated Mean and Median to reset the condition if the class Imbalance occur"
   ]
  },
  {
   "cell_type": "code",
   "execution_count": 6,
   "id": "bed90d256a8fc76f",
   "metadata": {
    "ExecuteTime": {
     "end_time": "2024-10-20T13:33:53.080531Z",
     "start_time": "2024-10-20T13:33:53.074883Z"
    }
   },
   "outputs": [],
   "source": [
    "from pyspark.sql import functions as F\n",
    "\n",
    "def calculate_statistics(df):\n",
    "    columns = [\n",
    "        \"temperature\", \"vibration\", \"power_output\", \"noise_level\", \"voltage\", \"current\",\n",
    "        \"oil_viscosity\", \"pressure_pct_of_max\", \"speed_pct_of_max\"\n",
    "    ]\n",
    "    \n",
    "    # Mean, Median and Min for each column\n",
    "    statistics = {}\n",
    "    \n",
    "    for column in columns:\n",
    "        avg_value = df.agg(F.avg(column).alias(f\"{column}_mean\")).collect()[0][0]\n",
    "        median_value = df.agg(F.expr(f\"percentile_approx({column}, 0.5)\").alias(f\"{column}_median\")).collect()[0][0]\n",
    "        min_value = df.agg(F.min(column).alias(f\"{column}_min\")).collect()[0][0]  # Tính toán giá trị min\n",
    "        max_value = df.agg(F.max(column).alias(f\"{column}_max\")).collect()[0][0]\n",
    "        \n",
    "        \n",
    "        statistics[column] = {\n",
    "            \"mean\": avg_value,\n",
    "            \"median\": median_value,\n",
    "            \"min\": min_value,  # Thêm giá trị min vào dictionary\n",
    "            \"max\": max_value\n",
    "\n",
    "        }\n",
    "    \n",
    "    return statistics"
   ]
  },
  {
   "cell_type": "code",
   "execution_count": 7,
   "id": "72df483d2cea46f4",
   "metadata": {
    "ExecuteTime": {
     "end_time": "2024-10-20T13:33:53.128775Z",
     "start_time": "2024-10-20T13:33:53.125718Z"
    }
   },
   "outputs": [],
   "source": [
    "# statistics_results = calculate_statistics(df)\n",
    "# \n",
    "# # In ra kết quả\n",
    "# for column, stats in statistics_results.items():\n",
    "#     print(f\"{column} - Mean: {stats['mean']}, Median: {stats['median']}, Min: {stats['min']}, Max: {stats['max']}\")"
   ]
  },
  {
   "cell_type": "markdown",
   "id": "a8281ab5370570d4",
   "metadata": {},
   "source": [
    "* temperature - Mean: 60.004399469304055, Median: 60.002754, Min: 9.845933, Max: 108.521286\n",
    "* vibration - Mean: 0.5000061973427192, Median: 0.50003743, Min: 0.0037688063, Max: 1.0136985\n",
    "* power_output - Mean: 499.9713855781973, Median: 499.97165, Min: 247.90448, Max: 761.1027\n",
    "* noise_level - Mean: 70.00087360821533, Median: 69.99943, Min: 43.538265, Max: 95.24965\n",
    "* voltage - Mean: 219.99585671643035, Median: 219.99315, Min: 170.51266, Max: 268.44962\n",
    "* current - Mean: 100.00216587919647, Median: 99.99826, Min: 46.68723, Max: 150.18857\n",
    "* oil_viscosity - Mean: 49.999960665454616, Median: 50.001106, Min: 23.71131, Max: 76.15404\n",
    "* pressure_pct_of_max - Mean: 57.81472383758579, Median: 57.42169497723175, Min: 1.75786780081056, Max: 127.73101939525205\n",
    "* speed_pct_of_max - Mean: 69.49498109640838, Median: 66.97644685811004, Min: 26.957618009699598, Max: 142.21353056113466"
   ]
  },
  {
   "cell_type": "markdown",
   "id": "d10ca81f0bd84ae2",
   "metadata": {},
   "source": [
    "### Calculated the Interval Range of each columns for case Class Imblance"
   ]
  },
  {
   "cell_type": "code",
   "execution_count": 8,
   "id": "6e66ecdd64aaeeda",
   "metadata": {
    "ExecuteTime": {
     "end_time": "2024-10-20T13:33:53.177582Z",
     "start_time": "2024-10-20T13:33:53.173192Z"
    }
   },
   "outputs": [],
   "source": [
    "from pyspark.sql import functions as F\n",
    "\n",
    "def calculate_intervals(df, column):\n",
    "    # Calculate Q1, Q3 and IQR values\n",
    "    q1, q3 = df.approxQuantile(column, [0.25, 0.75], 0.01)\n",
    "    iqr = q3 - q1\n",
    "\n",
    "    # Calculate threshold for outliers\n",
    "    lower_bound = q1 - 1.5 * iqr\n",
    "    upper_bound = q3 + 1.5 * iqr\n",
    "\n",
    "    # Return interval range\n",
    "    return (lower_bound, upper_bound)\n",
    "\n",
    "# # Danh sách các cột cần tính toán\n",
    "# columns_to_check = [\n",
    "#     \"temperature\", \"vibration\", \"power_output\", \"noise_level\", \n",
    "#     \"voltage\", \"current\", \"oil_viscosity\", \"pressure_pct_of_max\", \"speed_pct_of_max\"\n",
    "# ]\n",
    "# \n",
    "# # Tính toán khoảng giá trị cho tất cả các cột và in ra kết quả\n",
    "# for column in columns_to_check:\n",
    "#     lower_bound, upper_bound = calculate_intervals(df, column)\n",
    "#     print(f\"Column: {column} - Lower Bound: {lower_bound}, Upper Bound: {upper_bound}\")"
   ]
  },
  {
   "cell_type": "markdown",
   "id": "c437c9594228e9d0",
   "metadata": {},
   "source": [
    "### Checking all the outlier columns after initialize\n",
    "* Because we need to set all the value of outlier to True and False, so we can using it to checking the condition of the System Warning\n",
    "* Also because in the EDA part, decision is keeping the outlier => all the outlier here will be the Danger \n"
   ]
  },
  {
   "cell_type": "code",
   "execution_count": 9,
   "id": "908d0163b3fd9cce",
   "metadata": {
    "ExecuteTime": {
     "end_time": "2024-10-20T13:34:50.060166Z",
     "start_time": "2024-10-20T13:33:53.221850Z"
    }
   },
   "outputs": [],
   "source": [
    "# Call detect_outliers function for columns in correlation condition\n",
    "# Because column_is_outlier is only created in the detect_outliers function\n",
    "df = detect_outliers(df, \"temperature\")\n",
    "df = detect_outliers(df, \"vibration\")\n",
    "df = detect_outliers(df, \"noise_level\")\n",
    "df = detect_outliers(df, \"oil_viscosity\")\n",
    "df = detect_outliers(df, \"power_output\")\n",
    "df = detect_outliers(df, \"pressure_pct_of_max\")\n",
    "df = detect_outliers(df, \"speed_pct_of_max\")\n",
    "df = detect_outliers(df, \"voltage\")\n",
    "df = detect_outliers(df, \"current\")"
   ]
  },
  {
   "cell_type": "code",
   "execution_count": 10,
   "id": "92b52872e0f4ba70",
   "metadata": {
    "ExecuteTime": {
     "end_time": "2024-10-20T13:34:50.387009Z",
     "start_time": "2024-10-20T13:34:50.106832Z"
    }
   },
   "outputs": [
    {
     "name": "stdout",
     "output_type": "stream",
     "text": [
      "+------------+--------------------+-----------+----------+---------+----------------+------------+-----------+---------+----------+-------------+----------+-------------+--------------------+---------------+------------+--------------------+-----------------------+---------------------+--------------------+---------+-----------+----------------+--------------------+-------------+--------------+---------+--------------+------------------+--------------------+---------------+---------------+--------------+-----------+------------+--------------------+-------------------+----------------+--------------------+----------------------+------------------+-------------------+------------------+-------------------+-----------------+---------------------------+--------------------------+-------------+-------------------+------------------------+--------------------------+--------------------+----------------------------+----------------------+----------------------+--------------------+----------------------+------------------------+-----------------------+------------------------------+---------------------------+------------------+------------------+\n",
      "|equipment_id|           timestamp|temperature| vibration| pressure|rotational_speed|power_output|noise_level|  voltage|   current|oil_viscosity|     model| manufacturer|   installation_date|max_temperature|max_pressure|max_rotational_speed|expected_lifetime_years|warranty_period_years| last_major_overhaul| location|criticality|maintenance_type|         description|technician_id|duration_hours|     cost|parts_replaced|maintenance_result|    maintenance_date|production_rate|operating_hours|downtime_hours|operator_id|product_type|raw_material_quality|ambient_temperature|ambient_humidity|      operation_date|days_since_maintenance|equipment_age_days|days_since_overhaul|   temp_pct_of_max|pressure_pct_of_max| speed_pct_of_max|cumulative_maintenance_cost|cumulative_operating_hours|estimated_rul|criticality_encoded|maintenance_type_encoded|maintenance_result_encoded|product_type_encoded|raw_material_quality_encoded|parts_replaced_encoded|temperature_is_outlier|vibration_is_outlier|noise_level_is_outlier|oil_viscosity_is_outlier|power_output_is_outlier|pressure_pct_of_max_is_outlier|speed_pct_of_max_is_outlier|voltage_is_outlier|current_is_outlier|\n",
      "+------------+--------------------+-----------+----------+---------+----------------+------------+-----------+---------+----------+-------------+----------+-------------+--------------------+---------------+------------+--------------------+-----------------------+---------------------+--------------------+---------+-----------+----------------+--------------------+-------------+--------------+---------+--------------+------------------+--------------------+---------------+---------------+--------------+-----------+------------+--------------------+-------------------+----------------+--------------------+----------------------+------------------+-------------------+------------------+-------------------+-----------------+---------------------------+--------------------------+-------------+-------------------+------------------------+--------------------------+--------------------+----------------------------+----------------------+----------------------+--------------------+----------------------+------------------------+-----------------------+------------------------------+---------------------------+------------------+------------------+\n",
      "|           1|2021-10-10 13:33:...|  63.102325|  0.583735|111.57932|        978.9937|    579.5041|  72.580185| 217.1716| 116.37518|     42.70299|Model-1951|ManufacturerC|2020-05-25 13:34:...|       83.86452|   187.45992|           1243.6407|             11.8686285|                    3|2025-04-03 13:34:...|Section-4|     Medium|         Routine|Routine maintenan...|           22|      6.964117|1218.1901|          None|        Successful|2024-08-12 13:34:...|       94.49336|       20.01369|    0.58859503|         89|       TypeA|                High|          22.501215|       32.179783|2021-10-10 13:34:...|                  1037|               503|               1271|  75.2431719635431|  59.52169402398123|78.71997917083287|                  1218.1901|                  20.01369| 3829.0494025|                0.0|                     2.0|                       0.0|                 1.0|                         0.0|                   0.0|           not_outlier|         not_outlier|           not_outlier|             not_outlier|            not_outlier|                   not_outlier|                not_outlier|       not_outlier|       not_outlier|\n",
      "|           1|2021-10-10 19:33:...|  66.560684| 0.5780538| 58.56234|       1109.8779|    485.0838|  76.433655|236.80861|  94.50009|     54.63073|Model-1951|ManufacturerC|2020-05-25 13:34:...|       83.86452|   187.45992|           1243.6407|             11.8686285|                    3|2025-04-03 13:34:...|Section-4|     Medium|         Routine|Routine maintenan...|           22|      6.964117|1218.1901|          None|        Successful|2024-08-12 13:34:...|       94.49336|       20.01369|    0.58859503|         89|       TypeA|                High|          22.501215|       32.179783|2021-10-10 13:34:...|                  1037|               503|               1271| 79.36691702283635| 31.239925846548957|89.24425680182388|                  2436.3802|                  40.02738| 3829.0494025|                0.0|                     2.0|                       0.0|                 1.0|                         0.0|                   0.0|           not_outlier|         not_outlier|           not_outlier|             not_outlier|            not_outlier|                   not_outlier|                not_outlier|       not_outlier|       not_outlier|\n",
      "|           1|2021-10-11 01:33:...|   47.79757|0.48461118| 56.58919|       1046.2716|   547.77606|  61.318645|224.70499| 91.184074|     53.11147|Model-1951|ManufacturerC|2020-05-25 13:34:...|       83.86452|   187.45992|           1243.6407|             11.8686285|                    3|2025-04-03 13:34:...|Section-4|     Medium|         Routine|Routine maintenan...|           22|      6.964117|1218.1901|          None|        Successful|2024-08-12 13:34:...|       91.30134|      20.773722|     1.3544766|         57|       TypeC|                High|          28.017666|        32.21979|2021-10-11 13:34:...|                  1036|               504|               1270|56.993791891970524|  30.18735418216331|84.12973296869426|         3654.5703000000003|                 60.801102| 3828.0494025|                0.0|                     2.0|                       0.0|                 0.0|                         0.0|                   0.0|           not_outlier|         not_outlier|           not_outlier|             not_outlier|            not_outlier|                   not_outlier|                not_outlier|       not_outlier|       not_outlier|\n",
      "|           1|2021-10-11 07:33:...|  53.125355|0.46519247|114.01153|       746.84045|    576.1142|   74.14918|  214.704|111.522675|     52.68492|Model-1951|ManufacturerC|2020-05-25 13:34:...|       83.86452|   187.45992|           1243.6407|             11.8686285|                    3|2025-04-03 13:34:...|Section-4|     Medium|         Routine|Routine maintenan...|           22|      6.964117|1218.1901|          None|        Successful|2024-08-12 13:34:...|       91.30134|      20.773722|     1.3544766|         57|       TypeC|                High|          28.017666|        32.21979|2021-10-11 13:34:...|                  1036|               504|               1270| 63.34663931779494|  60.81915003484477|60.05275076635881|                  4872.7604|                 81.574824| 3828.0494025|                0.0|                     2.0|                       0.0|                 0.0|                         0.0|                   0.0|           not_outlier|         not_outlier|           not_outlier|             not_outlier|            not_outlier|                   not_outlier|                not_outlier|       not_outlier|       not_outlier|\n",
      "|           1|2021-10-11 13:33:...|  53.964127|0.49352926|  98.2447|       1109.0782|    524.4226|   67.25192|219.81172|112.519264|      50.9315|Model-1951|ManufacturerC|2020-05-25 13:34:...|       83.86452|   187.45992|           1243.6407|             11.8686285|                    3|2025-04-03 13:34:...|Section-4|     Medium|         Routine|Routine maintenan...|           22|      6.964117|1218.1901|          None|        Successful|2024-08-12 13:34:...|       91.30134|      20.773722|     1.3544766|         57|       TypeC|                High|          28.017666|        32.21979|2021-10-11 13:34:...|                  1036|               504|               1270| 64.34679051403383|  52.40837614781868|89.17995366346567|                  6090.9505|                102.348546| 3828.0494025|                0.0|                     2.0|                       0.0|                 0.0|                         0.0|                   0.0|           not_outlier|         not_outlier|           not_outlier|             not_outlier|            not_outlier|                   not_outlier|                not_outlier|       not_outlier|       not_outlier|\n",
      "+------------+--------------------+-----------+----------+---------+----------------+------------+-----------+---------+----------+-------------+----------+-------------+--------------------+---------------+------------+--------------------+-----------------------+---------------------+--------------------+---------+-----------+----------------+--------------------+-------------+--------------+---------+--------------+------------------+--------------------+---------------+---------------+--------------+-----------+------------+--------------------+-------------------+----------------+--------------------+----------------------+------------------+-------------------+------------------+-------------------+-----------------+---------------------------+--------------------------+-------------+-------------------+------------------------+--------------------------+--------------------+----------------------------+----------------------+----------------------+--------------------+----------------------+------------------------+-----------------------+------------------------------+---------------------------+------------------+------------------+\n",
      "only showing top 5 rows\n",
      "\n"
     ]
    }
   ],
   "source": [
    "# Checking for the new columns represent outlier value \n",
    "df.show(5)"
   ]
  },
  {
   "cell_type": "code",
   "execution_count": 11,
   "id": "b728fa638b85d462",
   "metadata": {
    "ExecuteTime": {
     "end_time": "2024-10-20T13:34:50.454159Z",
     "start_time": "2024-10-20T13:34:50.447735Z"
    }
   },
   "outputs": [
    {
     "name": "stdout",
     "output_type": "stream",
     "text": [
      "root\n",
      " |-- equipment_id: integer (nullable = true)\n",
      " |-- timestamp: timestamp (nullable = true)\n",
      " |-- temperature: double (nullable = true)\n",
      " |-- vibration: double (nullable = true)\n",
      " |-- pressure: double (nullable = true)\n",
      " |-- rotational_speed: double (nullable = true)\n",
      " |-- power_output: double (nullable = true)\n",
      " |-- noise_level: double (nullable = true)\n",
      " |-- voltage: double (nullable = true)\n",
      " |-- current: double (nullable = true)\n",
      " |-- oil_viscosity: double (nullable = true)\n",
      " |-- model: string (nullable = true)\n",
      " |-- manufacturer: string (nullable = true)\n",
      " |-- installation_date: timestamp (nullable = true)\n",
      " |-- max_temperature: double (nullable = true)\n",
      " |-- max_pressure: double (nullable = true)\n",
      " |-- max_rotational_speed: double (nullable = true)\n",
      " |-- expected_lifetime_years: double (nullable = true)\n",
      " |-- warranty_period_years: integer (nullable = true)\n",
      " |-- last_major_overhaul: timestamp (nullable = true)\n",
      " |-- location: string (nullable = true)\n",
      " |-- criticality: string (nullable = true)\n",
      " |-- maintenance_type: string (nullable = true)\n",
      " |-- description: string (nullable = true)\n",
      " |-- technician_id: integer (nullable = true)\n",
      " |-- duration_hours: double (nullable = true)\n",
      " |-- cost: double (nullable = true)\n",
      " |-- parts_replaced: string (nullable = true)\n",
      " |-- maintenance_result: string (nullable = true)\n",
      " |-- maintenance_date: timestamp (nullable = true)\n",
      " |-- production_rate: double (nullable = true)\n",
      " |-- operating_hours: double (nullable = true)\n",
      " |-- downtime_hours: double (nullable = true)\n",
      " |-- operator_id: integer (nullable = true)\n",
      " |-- product_type: string (nullable = true)\n",
      " |-- raw_material_quality: string (nullable = true)\n",
      " |-- ambient_temperature: double (nullable = true)\n",
      " |-- ambient_humidity: double (nullable = true)\n",
      " |-- operation_date: timestamp (nullable = true)\n",
      " |-- days_since_maintenance: integer (nullable = true)\n",
      " |-- equipment_age_days: integer (nullable = true)\n",
      " |-- days_since_overhaul: integer (nullable = true)\n",
      " |-- temp_pct_of_max: double (nullable = true)\n",
      " |-- pressure_pct_of_max: double (nullable = true)\n",
      " |-- speed_pct_of_max: double (nullable = true)\n",
      " |-- cumulative_maintenance_cost: double (nullable = true)\n",
      " |-- cumulative_operating_hours: double (nullable = true)\n",
      " |-- estimated_rul: double (nullable = true)\n",
      " |-- criticality_encoded: double (nullable = true)\n",
      " |-- maintenance_type_encoded: double (nullable = true)\n",
      " |-- maintenance_result_encoded: double (nullable = true)\n",
      " |-- product_type_encoded: double (nullable = true)\n",
      " |-- raw_material_quality_encoded: double (nullable = true)\n",
      " |-- parts_replaced_encoded: double (nullable = true)\n",
      " |-- temperature_is_outlier: string (nullable = false)\n",
      " |-- vibration_is_outlier: string (nullable = false)\n",
      " |-- noise_level_is_outlier: string (nullable = false)\n",
      " |-- oil_viscosity_is_outlier: string (nullable = false)\n",
      " |-- power_output_is_outlier: string (nullable = false)\n",
      " |-- pressure_pct_of_max_is_outlier: string (nullable = false)\n",
      " |-- speed_pct_of_max_is_outlier: string (nullable = false)\n",
      " |-- voltage_is_outlier: string (nullable = false)\n",
      " |-- current_is_outlier: string (nullable = false)\n",
      "\n"
     ]
    }
   ],
   "source": [
    "# Checking datatype again\n",
    "df.printSchema()"
   ]
  },
  {
   "cell_type": "code",
   "execution_count": 12,
   "id": "1c2315a0e724112a",
   "metadata": {
    "ExecuteTime": {
     "end_time": "2024-10-20T13:34:50.604836Z",
     "start_time": "2024-10-20T13:34:50.594530Z"
    }
   },
   "outputs": [],
   "source": [
    "def add_equipment_classifications(df):\n",
    "    # Keep equipment_type logic same\n",
    "    window_spec = Window.partitionBy(\"equipment_id\")\n",
    "    df = df.withColumn(\n",
    "        \"avg_temp\", F.avg(\"temperature\").over(window_spec)\n",
    "    ).withColumn(\n",
    "        \"equipment_type\",\n",
    "        F.when(F.col(\"avg_temp\") < 50, \"cold\").otherwise(\"hot\")\n",
    "    )\n",
    "\n",
    "    # Modified temperature warning thresholds\n",
    "    df = df.withColumn(\n",
    "        \"temp_warning\",\n",
    "        F.when(F.col(\"temperature_is_outlier\") == \"Danger\", \"Danger\")\n",
    "         .when((F.col(\"equipment_type\") == \"cold\") & (F.col(\"temperature\") > 25), \"Danger\")\n",
    "         .when((F.col(\"equipment_type\") == \"cold\") & (F.col(\"temperature\") > 20), \"Warning\")\n",
    "         .when((F.col(\"equipment_type\") == \"hot\") & (F.col(\"temperature\") > 105), \"Danger\")\n",
    "         .when((F.col(\"equipment_type\") == \"hot\") & (F.col(\"temperature\") < 55), \"Warning\")\n",
    "         .otherwise(\"Normal\")\n",
    "    )\n",
    "    \n",
    "    # Adjusted vibration thresholds\n",
    "    df = df.withColumn(\n",
    "        \"vibration_warning\",\n",
    "        F.when(F.col(\"vibration_is_outlier\") == \"Danger\", \"Danger\")\n",
    "         .when(F.col(\"vibration\") > 0.9, \"Danger\")\n",
    "         .when(F.col(\"vibration\") > 0.75, \"Warning\")\n",
    "         .otherwise(\"Normal\")\n",
    "    )\n",
    "\n",
    "    # Modified pressure thresholds\n",
    "    df = df.withColumn(\n",
    "        \"pressure_warning\",\n",
    "        F.when(F.col(\"pressure_pct_of_max_is_outlier\") == \"Danger\", \"Danger\")\n",
    "         .when(F.col(\"pressure_pct_of_max\") >= 95, \"Danger\")\n",
    "         .when(F.col(\"pressure_pct_of_max\") >= 85, \"Warning\")\n",
    "         .otherwise(\"Normal\")\n",
    "    )\n",
    "\n",
    "    # Adjusted speed thresholds\n",
    "    df = df.withColumn(\n",
    "        \"speed_warning\",\n",
    "        F.when(F.col(\"speed_pct_of_max_is_outlier\") == \"Danger\", \"Danger\")\n",
    "         .when(F.col(\"speed_pct_of_max\") >= 95, \"Danger\")\n",
    "         .when(F.col(\"speed_pct_of_max\") >= 85, \"Warning\")\n",
    "         .otherwise(\"Normal\")\n",
    "    )\n",
    "\n",
    "    # Modified power thresholds\n",
    "    df = df.withColumn(\n",
    "        \"power_warning\",\n",
    "        F.when(F.col(\"power_output_is_outlier\") == \"Danger\", \"Danger\")\n",
    "         .when(F.col(\"power_output\") > 700, \"Danger\")\n",
    "         .when(F.col(\"power_output\") > 650, \"Warning\")\n",
    "         .otherwise(\"Normal\")\n",
    "    )\n",
    "\n",
    "    # Adjusted noise thresholds\n",
    "    df = df.withColumn(\n",
    "        \"noise_warning\",\n",
    "        F.when(F.col(\"noise_level_is_outlier\") == \"Danger\", \"Danger\")\n",
    "         .when(F.col(\"noise_level\") > 92, \"Danger\")\n",
    "         .when(F.col(\"noise_level\") > 85, \"Warning\")\n",
    "         .otherwise(\"Normal\")\n",
    "    )\n",
    "\n",
    "    # Modified oil viscosity thresholds\n",
    "    df = df.withColumn(\n",
    "        \"oil_warning\",\n",
    "        F.when(F.col(\"oil_viscosity_is_outlier\") == \"Danger\", \"Danger\")\n",
    "         .when((F.col(\"oil_viscosity\") < 20) | (F.col(\"oil_viscosity\") > 75), \"Danger\")\n",
    "         .when((F.col(\"oil_viscosity\") < 35) | (F.col(\"oil_viscosity\") > 65), \"Warning\")\n",
    "         .otherwise(\"Normal\")\n",
    "    )\n",
    "    \n",
    "    # Combine all warnings to determine system health (system_warning)\n",
    "    df = df.withColumn(\n",
    "        \"system_warning\",\n",
    "        F.when((F.col(\"temp_warning\") == \"Danger\") | \n",
    "               (F.col(\"vibration_warning\") == \"Danger\") | \n",
    "               (F.col(\"pressure_warning\") == \"Danger\") | \n",
    "               (F.col(\"speed_warning\") == \"Danger\") | \n",
    "               (F.col(\"noise_warning\") == \"Danger\") | \n",
    "               (F.col(\"oil_warning\") == \"Danger\"), \"Danger\")\n",
    "         .when((F.col(\"temp_warning\") == \"Warning\") | \n",
    "               (F.col(\"vibration_warning\") == \"Warning\") | \n",
    "               (F.col(\"pressure_warning\") == \"Warning\") | \n",
    "               (F.col(\"speed_warning\") == \"Warning\") | \n",
    "               (F.col(\"power_warning\") == \"Warning\") | \n",
    "               (F.col(\"noise_warning\") == \"Warning\") | \n",
    "               (F.col(\"oil_warning\") == \"Warning\"), \"Warning\")\n",
    "        .otherwise(\"Normal\")\n",
    "    )   \n",
    "    return df"
   ]
  },
  {
   "cell_type": "code",
   "execution_count": 13,
   "id": "7165dbee72ab4ffa",
   "metadata": {
    "ExecuteTime": {
     "end_time": "2024-10-20T13:34:51.851597Z",
     "start_time": "2024-10-20T13:34:50.733468Z"
    }
   },
   "outputs": [],
   "source": [
    "df_with_warnings = add_equipment_classifications(df)"
   ]
  },
  {
   "cell_type": "markdown",
   "id": "6e055c0becb4e5c8",
   "metadata": {},
   "source": [
    "### Checking the new dataset contain the label for output1 \"system_warning\""
   ]
  },
  {
   "cell_type": "code",
   "execution_count": 14,
   "id": "e6b41e9c580bff3f",
   "metadata": {
    "ExecuteTime": {
     "end_time": "2024-10-20T13:35:08.179649Z",
     "start_time": "2024-10-20T13:34:51.894904Z"
    }
   },
   "outputs": [
    {
     "name": "stdout",
     "output_type": "stream",
     "text": [
      "+------------+--------------------+-----------+----------+---------+----------------+------------+-----------+---------+---------+-------------+----------+-------------+--------------------+---------------+------------+--------------------+-----------------------+---------------------+--------------------+---------+-----------+----------------+--------------------+-------------+--------------+---------+--------------+------------------+--------------------+---------------+------------------+------------------+-----------+------------+--------------------+-------------------+----------------+--------------------+----------------------+------------------+-------------------+------------------+-------------------+-----------------+---------------------------+--------------------------+-------------+-------------------+------------------------+--------------------------+--------------------+----------------------------+----------------------+----------------------+--------------------+----------------------+------------------------+-----------------------+------------------------------+---------------------------+------------------+------------------+-----------------+--------------+------------+-----------------+----------------+-------------+-------------+-------------+-----------+--------------+\n",
      "|equipment_id|           timestamp|temperature| vibration| pressure|rotational_speed|power_output|noise_level|  voltage|  current|oil_viscosity|     model| manufacturer|   installation_date|max_temperature|max_pressure|max_rotational_speed|expected_lifetime_years|warranty_period_years| last_major_overhaul| location|criticality|maintenance_type|         description|technician_id|duration_hours|     cost|parts_replaced|maintenance_result|    maintenance_date|production_rate|   operating_hours|    downtime_hours|operator_id|product_type|raw_material_quality|ambient_temperature|ambient_humidity|      operation_date|days_since_maintenance|equipment_age_days|days_since_overhaul|   temp_pct_of_max|pressure_pct_of_max| speed_pct_of_max|cumulative_maintenance_cost|cumulative_operating_hours|estimated_rul|criticality_encoded|maintenance_type_encoded|maintenance_result_encoded|product_type_encoded|raw_material_quality_encoded|parts_replaced_encoded|temperature_is_outlier|vibration_is_outlier|noise_level_is_outlier|oil_viscosity_is_outlier|power_output_is_outlier|pressure_pct_of_max_is_outlier|speed_pct_of_max_is_outlier|voltage_is_outlier|current_is_outlier|         avg_temp|equipment_type|temp_warning|vibration_warning|pressure_warning|speed_warning|power_warning|noise_warning|oil_warning|system_warning|\n",
      "+------------+--------------------+-----------+----------+---------+----------------+------------+-----------+---------+---------+-------------+----------+-------------+--------------------+---------------+------------+--------------------+-----------------------+---------------------+--------------------+---------+-----------+----------------+--------------------+-------------+--------------+---------+--------------+------------------+--------------------+---------------+------------------+------------------+-----------+------------+--------------------+-------------------+----------------+--------------------+----------------------+------------------+-------------------+------------------+-------------------+-----------------+---------------------------+--------------------------+-------------+-------------------+------------------------+--------------------------+--------------------+----------------------------+----------------------+----------------------+--------------------+----------------------+------------------------+-----------------------+------------------------------+---------------------------+------------------+------------------+-----------------+--------------+------------+-----------------+----------------+-------------+-------------+-------------+-----------+--------------+\n",
      "|          31|2021-10-10 13:33:...|   66.11339| 0.5686021|113.07286|       1008.9889|   409.83102|   73.59045|226.71875|105.19846|    42.822212|Model-4627|ManufacturerA|2021-03-01 13:34:...|       96.07525|   156.61642|            1376.648|              17.145212|                    4|2025-12-10 13:34:...|Section-5|     Medium|     Replacement|Replacement maint...|            9|     3.2759128|1998.8634|          None|        Successful|2024-07-31 13:34:...|       96.21367|22.000963893473315|1.9990361065266855|         43|       TypeB|                High|          23.039305|       50.552826|2021-10-10 13:34:...|                  1025|               223|               1522| 68.81417430607777|  72.19732132812128| 73.2931657184698|                  1998.8634|        22.000963893473315|   6035.00238|                0.0|                     3.0|                       0.0|                 2.0|                         0.0|                   0.0|           not_outlier|         not_outlier|           not_outlier|             not_outlier|            not_outlier|                   not_outlier|                not_outlier|       not_outlier|       not_outlier|59.96122197099147|           hot|      Normal|           Normal|          Normal|       Normal|       Normal|       Normal|     Normal|        Normal|\n",
      "|          31|2021-10-10 19:33:...|  52.309208|0.36798212|97.595604|       1196.7042|    482.5365|    69.7443|222.31857|91.183304|    47.995625|Model-4627|ManufacturerA|2021-03-01 13:34:...|       96.07525|   156.61642|            1376.648|              17.145212|                    4|2025-12-10 13:34:...|Section-5|     Medium|     Replacement|Replacement maint...|            9|     3.2759128|1998.8634|          None|        Successful|2024-07-31 13:34:...|       96.21367|22.000963893473315|1.9990361065266855|         43|       TypeB|                High|          23.039305|       50.552826|2021-10-10 13:34:...|                  1025|               223|               1522|  54.4460805462385|  62.31505227868188|86.92884455576153|                  3997.7268|         44.00192778694663|   6035.00238|                0.0|                     3.0|                       0.0|                 2.0|                         0.0|                   0.0|           not_outlier|         not_outlier|           not_outlier|             not_outlier|            not_outlier|                   not_outlier|                not_outlier|       not_outlier|       not_outlier|59.96122197099147|           hot|     Warning|           Normal|          Normal|      Warning|       Normal|       Normal|     Normal|       Warning|\n",
      "|          31|2021-10-11 01:33:...|  44.725586|0.57260543| 95.95008|       970.03625|   452.11908|  73.790665|240.29715| 95.22802|    50.307762|Model-4627|ManufacturerA|2021-03-01 13:34:...|       96.07525|   156.61642|            1376.648|              17.145212|                    4|2025-12-10 13:34:...|Section-5|     Medium|     Replacement|Replacement maint...|            9|     3.2759128|1998.8634|          None|        Successful|2024-07-31 13:34:...|      88.138985|         21.792072|         0.5662437|         12|       TypeB|              Medium|          28.172447|         61.0783|2021-10-11 13:34:...|                  1024|               224|               1521|46.552661585580054|  61.26438083567483|70.46363703720922|                  5996.5902|         65.79399978694663|   6034.00238|                0.0|                     3.0|                       0.0|                 2.0|                         1.0|                   0.0|           not_outlier|         not_outlier|           not_outlier|             not_outlier|            not_outlier|                   not_outlier|                not_outlier|       not_outlier|       not_outlier|59.96122197099147|           hot|     Warning|           Normal|          Normal|       Normal|       Normal|       Normal|     Normal|       Warning|\n",
      "|          31|2021-10-11 07:33:...|  47.775455|0.39769715|133.06326|        943.6766|   554.05176|   65.55634|221.46417|118.75781|     53.72231|Model-4627|ManufacturerA|2021-03-01 13:34:...|       96.07525|   156.61642|            1376.648|              17.145212|                    4|2025-12-10 13:34:...|Section-5|     Medium|     Replacement|Replacement maint...|            9|     3.2759128|1998.8634|          None|        Successful|2024-07-31 13:34:...|      88.138985|         21.792072|         0.5662437|         12|       TypeB|              Medium|          28.172447|         61.0783|2021-10-11 13:34:...|                  1024|               224|               1521|49.727120148008986|  84.96124480434428|68.54886652216108|                  7995.4536|         87.58607178694663|   6034.00238|                0.0|                     3.0|                       0.0|                 2.0|                         1.0|                   0.0|           not_outlier|         not_outlier|           not_outlier|             not_outlier|            not_outlier|                   not_outlier|                not_outlier|       not_outlier|       not_outlier|59.96122197099147|           hot|     Warning|           Normal|          Normal|       Normal|       Normal|       Normal|     Normal|       Warning|\n",
      "|          31|2021-10-11 13:33:...|  73.345024|0.38511002| 76.54087|       1048.1967|   486.22903|   75.02532|214.98962|105.63077|    48.847843|Model-4627|ManufacturerA|2021-03-01 13:34:...|       96.07525|   156.61642|            1376.648|              17.145212|                    4|2025-12-10 13:34:...|Section-5|     Medium|     Replacement|Replacement maint...|            9|     3.2759128|1998.8634|          None|        Successful|2024-07-31 13:34:...|      88.138985|         21.792072|         0.5662437|         12|       TypeB|              Medium|          28.172447|         61.0783|2021-10-11 13:34:...|                  1024|               224|               1521| 76.34122627835993|  48.87154871756103|76.14122854934595|                   9994.317|        109.37814378694664|   6034.00238|                0.0|                     3.0|                       0.0|                 2.0|                         1.0|                   0.0|           not_outlier|         not_outlier|           not_outlier|             not_outlier|            not_outlier|                   not_outlier|                not_outlier|       not_outlier|       not_outlier|59.96122197099147|           hot|      Normal|           Normal|          Normal|       Normal|       Normal|       Normal|     Normal|        Normal|\n",
      "+------------+--------------------+-----------+----------+---------+----------------+------------+-----------+---------+---------+-------------+----------+-------------+--------------------+---------------+------------+--------------------+-----------------------+---------------------+--------------------+---------+-----------+----------------+--------------------+-------------+--------------+---------+--------------+------------------+--------------------+---------------+------------------+------------------+-----------+------------+--------------------+-------------------+----------------+--------------------+----------------------+------------------+-------------------+------------------+-------------------+-----------------+---------------------------+--------------------------+-------------+-------------------+------------------------+--------------------------+--------------------+----------------------------+----------------------+----------------------+--------------------+----------------------+------------------------+-----------------------+------------------------------+---------------------------+------------------+------------------+-----------------+--------------+------------+-----------------+----------------+-------------+-------------+-------------+-----------+--------------+\n",
      "only showing top 5 rows\n",
      "\n"
     ]
    }
   ],
   "source": [
    "df_with_warnings.show(5)"
   ]
  },
  {
   "cell_type": "code",
   "execution_count": 15,
   "id": "efbf6d8ea3415e7b",
   "metadata": {
    "ExecuteTime": {
     "end_time": "2024-10-20T13:35:18.543393Z",
     "start_time": "2024-10-20T13:35:08.278342Z"
    }
   },
   "outputs": [
    {
     "name": "stdout",
     "output_type": "stream",
     "text": [
      "+--------------+\n",
      "|system_warning|\n",
      "+--------------+\n",
      "|        Danger|\n",
      "|       Warning|\n",
      "|        Normal|\n",
      "+--------------+\n",
      "\n"
     ]
    }
   ],
   "source": [
    "# Kiểm tra tất cả các giá trị duy nhất trong cột system_warning\n",
    "unique_system_warnings = df_with_warnings.select(\"system_warning\").distinct()\n",
    "unique_system_warnings.show()"
   ]
  },
  {
   "cell_type": "code",
   "execution_count": 16,
   "id": "f892ff8f16600729",
   "metadata": {
    "ExecuteTime": {
     "end_time": "2024-10-20T13:35:27.246896Z",
     "start_time": "2024-10-20T13:35:18.591722Z"
    }
   },
   "outputs": [
    {
     "name": "stdout",
     "output_type": "stream",
     "text": [
      "+--------------+-------+------------------+\n",
      "|system_warning|  count|           percent|\n",
      "+--------------+-------+------------------+\n",
      "|        Danger| 469405|10.721904979442668|\n",
      "|       Warning|1558450|35.597304705344904|\n",
      "|        Normal|2350145| 53.68079031521242|\n",
      "+--------------+-------+------------------+\n",
      "\n"
     ]
    }
   ],
   "source": [
    "# Đếm số lượng các giá trị trong cột system_warning\n",
    "summary = df_with_warnings.groupBy(\"system_warning\").count()\n",
    "\n",
    "# Tính tổng số bản ghi để tính tỷ lệ phần trăm\n",
    "total_count = df_with_warnings.count()\n",
    "\n",
    "# Tính tỷ lệ phần trăm cho mỗi loại\n",
    "summary = summary.withColumn(\"percent\", (F.col(\"count\") / total_count) * 100)\n",
    "\n",
    "# Hiển thị kết quả\n",
    "summary.show()"
   ]
  },
  {
   "cell_type": "markdown",
   "id": "46a95ffd9e82efc2",
   "metadata": {},
   "source": [
    "# MODEL DEVELOPMENT\n",
    "### Focus on and compare 2 type of Model \n",
    "* 1 Gradient Boosting Machines (GBM)\n",
    "* 2 Random Forest"
   ]
  },
  {
   "cell_type": "markdown",
   "id": "77b4e1d24ce74c63",
   "metadata": {},
   "source": [
    "### Setup"
   ]
  },
  {
   "cell_type": "code",
   "execution_count": 17,
   "id": "8702e378868ccacd",
   "metadata": {
    "ExecuteTime": {
     "end_time": "2024-10-20T13:35:31.793483Z",
     "start_time": "2024-10-20T13:35:27.275805Z"
    }
   },
   "outputs": [
    {
     "name": "stdout",
     "output_type": "stream",
     "text": [
      "Requirement already satisfied: scikit-learn in /home/beboy/.cache/JetBrains/PyCharm2024.2/demo/PyCharmLearningProject/venv/lib/python3.12/site-packages (1.5.2)\r\n",
      "Requirement already satisfied: numpy>=1.19.5 in /home/beboy/.cache/JetBrains/PyCharm2024.2/demo/PyCharmLearningProject/venv/lib/python3.12/site-packages (from scikit-learn) (2.1.2)\r\n",
      "Requirement already satisfied: scipy>=1.6.0 in /home/beboy/.cache/JetBrains/PyCharm2024.2/demo/PyCharmLearningProject/venv/lib/python3.12/site-packages (from scikit-learn) (1.14.1)\r\n",
      "Requirement already satisfied: joblib>=1.2.0 in /home/beboy/.cache/JetBrains/PyCharm2024.2/demo/PyCharmLearningProject/venv/lib/python3.12/site-packages (from scikit-learn) (1.4.2)\r\n",
      "Requirement already satisfied: threadpoolctl>=3.1.0 in /home/beboy/.cache/JetBrains/PyCharm2024.2/demo/PyCharmLearningProject/venv/lib/python3.12/site-packages (from scikit-learn) (3.5.0)\r\n",
      "Requirement already satisfied: xgboost in /home/beboy/.cache/JetBrains/PyCharm2024.2/demo/PyCharmLearningProject/venv/lib/python3.12/site-packages (2.1.1)\r\n",
      "Requirement already satisfied: numpy in /home/beboy/.cache/JetBrains/PyCharm2024.2/demo/PyCharmLearningProject/venv/lib/python3.12/site-packages (from xgboost) (2.1.2)\r\n",
      "Requirement already satisfied: nvidia-nccl-cu12 in /home/beboy/.cache/JetBrains/PyCharm2024.2/demo/PyCharmLearningProject/venv/lib/python3.12/site-packages (from xgboost) (2.23.4)\r\n",
      "Requirement already satisfied: scipy in /home/beboy/.cache/JetBrains/PyCharm2024.2/demo/PyCharmLearningProject/venv/lib/python3.12/site-packages (from xgboost) (1.14.1)\r\n",
      "Requirement already satisfied: pandas in /home/beboy/.cache/JetBrains/PyCharm2024.2/demo/PyCharmLearningProject/venv/lib/python3.12/site-packages (2.2.3)\r\n",
      "Requirement already satisfied: numpy>=1.26.0 in /home/beboy/.cache/JetBrains/PyCharm2024.2/demo/PyCharmLearningProject/venv/lib/python3.12/site-packages (from pandas) (2.1.2)\r\n",
      "Requirement already satisfied: python-dateutil>=2.8.2 in /home/beboy/.cache/JetBrains/PyCharm2024.2/demo/PyCharmLearningProject/venv/lib/python3.12/site-packages (from pandas) (2.9.0.post0)\r\n",
      "Requirement already satisfied: pytz>=2020.1 in /home/beboy/.cache/JetBrains/PyCharm2024.2/demo/PyCharmLearningProject/venv/lib/python3.12/site-packages (from pandas) (2024.2)\r\n",
      "Requirement already satisfied: tzdata>=2022.7 in /home/beboy/.cache/JetBrains/PyCharm2024.2/demo/PyCharmLearningProject/venv/lib/python3.12/site-packages (from pandas) (2024.2)\r\n",
      "Requirement already satisfied: six>=1.5 in /home/beboy/.cache/JetBrains/PyCharm2024.2/demo/PyCharmLearningProject/venv/lib/python3.12/site-packages (from python-dateutil>=2.8.2->pandas) (1.16.0)\r\n",
      "Requirement already satisfied: numpy in /home/beboy/.cache/JetBrains/PyCharm2024.2/demo/PyCharmLearningProject/venv/lib/python3.12/site-packages (2.1.2)\r\n",
      "Requirement already satisfied: matplotlib in /home/beboy/.cache/JetBrains/PyCharm2024.2/demo/PyCharmLearningProject/venv/lib/python3.12/site-packages (3.9.2)\r\n",
      "Requirement already satisfied: contourpy>=1.0.1 in /home/beboy/.cache/JetBrains/PyCharm2024.2/demo/PyCharmLearningProject/venv/lib/python3.12/site-packages (from matplotlib) (1.3.0)\r\n",
      "Requirement already satisfied: cycler>=0.10 in /home/beboy/.cache/JetBrains/PyCharm2024.2/demo/PyCharmLearningProject/venv/lib/python3.12/site-packages (from matplotlib) (0.12.1)\r\n",
      "Requirement already satisfied: fonttools>=4.22.0 in /home/beboy/.cache/JetBrains/PyCharm2024.2/demo/PyCharmLearningProject/venv/lib/python3.12/site-packages (from matplotlib) (4.54.1)\r\n",
      "Requirement already satisfied: kiwisolver>=1.3.1 in /home/beboy/.cache/JetBrains/PyCharm2024.2/demo/PyCharmLearningProject/venv/lib/python3.12/site-packages (from matplotlib) (1.4.7)\r\n",
      "Requirement already satisfied: numpy>=1.23 in /home/beboy/.cache/JetBrains/PyCharm2024.2/demo/PyCharmLearningProject/venv/lib/python3.12/site-packages (from matplotlib) (2.1.2)\r\n",
      "Requirement already satisfied: packaging>=20.0 in /home/beboy/.cache/JetBrains/PyCharm2024.2/demo/PyCharmLearningProject/venv/lib/python3.12/site-packages (from matplotlib) (24.1)\r\n",
      "Requirement already satisfied: pillow>=8 in /home/beboy/.cache/JetBrains/PyCharm2024.2/demo/PyCharmLearningProject/venv/lib/python3.12/site-packages (from matplotlib) (11.0.0)\r\n",
      "Requirement already satisfied: pyparsing>=2.3.1 in /home/beboy/.cache/JetBrains/PyCharm2024.2/demo/PyCharmLearningProject/venv/lib/python3.12/site-packages (from matplotlib) (3.2.0)\r\n",
      "Requirement already satisfied: python-dateutil>=2.7 in /home/beboy/.cache/JetBrains/PyCharm2024.2/demo/PyCharmLearningProject/venv/lib/python3.12/site-packages (from matplotlib) (2.9.0.post0)\r\n",
      "Requirement already satisfied: six>=1.5 in /home/beboy/.cache/JetBrains/PyCharm2024.2/demo/PyCharmLearningProject/venv/lib/python3.12/site-packages (from python-dateutil>=2.7->matplotlib) (1.16.0)\r\n",
      "Requirement already satisfied: seaborn in /home/beboy/.cache/JetBrains/PyCharm2024.2/demo/PyCharmLearningProject/venv/lib/python3.12/site-packages (0.13.2)\r\n",
      "Requirement already satisfied: numpy!=1.24.0,>=1.20 in /home/beboy/.cache/JetBrains/PyCharm2024.2/demo/PyCharmLearningProject/venv/lib/python3.12/site-packages (from seaborn) (2.1.2)\r\n",
      "Requirement already satisfied: pandas>=1.2 in /home/beboy/.cache/JetBrains/PyCharm2024.2/demo/PyCharmLearningProject/venv/lib/python3.12/site-packages (from seaborn) (2.2.3)\r\n",
      "Requirement already satisfied: matplotlib!=3.6.1,>=3.4 in /home/beboy/.cache/JetBrains/PyCharm2024.2/demo/PyCharmLearningProject/venv/lib/python3.12/site-packages (from seaborn) (3.9.2)\r\n",
      "Requirement already satisfied: contourpy>=1.0.1 in /home/beboy/.cache/JetBrains/PyCharm2024.2/demo/PyCharmLearningProject/venv/lib/python3.12/site-packages (from matplotlib!=3.6.1,>=3.4->seaborn) (1.3.0)\r\n",
      "Requirement already satisfied: cycler>=0.10 in /home/beboy/.cache/JetBrains/PyCharm2024.2/demo/PyCharmLearningProject/venv/lib/python3.12/site-packages (from matplotlib!=3.6.1,>=3.4->seaborn) (0.12.1)\r\n",
      "Requirement already satisfied: fonttools>=4.22.0 in /home/beboy/.cache/JetBrains/PyCharm2024.2/demo/PyCharmLearningProject/venv/lib/python3.12/site-packages (from matplotlib!=3.6.1,>=3.4->seaborn) (4.54.1)\r\n",
      "Requirement already satisfied: kiwisolver>=1.3.1 in /home/beboy/.cache/JetBrains/PyCharm2024.2/demo/PyCharmLearningProject/venv/lib/python3.12/site-packages (from matplotlib!=3.6.1,>=3.4->seaborn) (1.4.7)\r\n",
      "Requirement already satisfied: packaging>=20.0 in /home/beboy/.cache/JetBrains/PyCharm2024.2/demo/PyCharmLearningProject/venv/lib/python3.12/site-packages (from matplotlib!=3.6.1,>=3.4->seaborn) (24.1)\r\n",
      "Requirement already satisfied: pillow>=8 in /home/beboy/.cache/JetBrains/PyCharm2024.2/demo/PyCharmLearningProject/venv/lib/python3.12/site-packages (from matplotlib!=3.6.1,>=3.4->seaborn) (11.0.0)\r\n",
      "Requirement already satisfied: pyparsing>=2.3.1 in /home/beboy/.cache/JetBrains/PyCharm2024.2/demo/PyCharmLearningProject/venv/lib/python3.12/site-packages (from matplotlib!=3.6.1,>=3.4->seaborn) (3.2.0)\r\n",
      "Requirement already satisfied: python-dateutil>=2.7 in /home/beboy/.cache/JetBrains/PyCharm2024.2/demo/PyCharmLearningProject/venv/lib/python3.12/site-packages (from matplotlib!=3.6.1,>=3.4->seaborn) (2.9.0.post0)\r\n",
      "Requirement already satisfied: pytz>=2020.1 in /home/beboy/.cache/JetBrains/PyCharm2024.2/demo/PyCharmLearningProject/venv/lib/python3.12/site-packages (from pandas>=1.2->seaborn) (2024.2)\r\n",
      "Requirement already satisfied: tzdata>=2022.7 in /home/beboy/.cache/JetBrains/PyCharm2024.2/demo/PyCharmLearningProject/venv/lib/python3.12/site-packages (from pandas>=1.2->seaborn) (2024.2)\r\n",
      "Requirement already satisfied: six>=1.5 in /home/beboy/.cache/JetBrains/PyCharm2024.2/demo/PyCharmLearningProject/venv/lib/python3.12/site-packages (from python-dateutil>=2.7->matplotlib!=3.6.1,>=3.4->seaborn) (1.16.0)\r\n"
     ]
    }
   ],
   "source": [
    "!pip install scikit-learn\n",
    "!pip install xgboost\n",
    "!pip install pandas\n",
    "!pip install numpy\n",
    "!pip install matplotlib\n",
    "!pip install seaborn"
   ]
  },
  {
   "cell_type": "code",
   "execution_count": 18,
   "id": "a525e6a170cca3d0",
   "metadata": {
    "ExecuteTime": {
     "end_time": "2024-10-20T13:35:32.050283Z",
     "start_time": "2024-10-20T13:35:31.816225Z"
    }
   },
   "outputs": [],
   "source": [
    "# Imports\n",
    "from pyspark.sql import SparkSession\n",
    "from pyspark.ml.feature import StringIndexer, VectorAssembler, StandardScaler\n",
    "from pyspark.ml.classification import RandomForestClassifier, GBTClassifier\n",
    "from pyspark.ml.evaluation import MulticlassClassificationEvaluator\n",
    "from pyspark.ml import Pipeline\n",
    "import joblib\n",
    "\n",
    "from pyspark.ml.regression import GBTRegressor\n",
    "from pyspark.ml.evaluation import RegressionEvaluator\n",
    "from pyspark.ml.feature import VectorAssembler\n",
    "from pyspark.ml.tuning import ParamGridBuilder, CrossValidator\n",
    "from pyspark.sql.functions import *\n",
    "from pyspark.sql.types import *"
   ]
  },
  {
   "cell_type": "code",
   "execution_count": 19,
   "id": "6efe0a871bdb865b",
   "metadata": {
    "ExecuteTime": {
     "end_time": "2024-10-20T13:35:32.064547Z",
     "start_time": "2024-10-20T13:35:32.062159Z"
    }
   },
   "outputs": [
    {
     "name": "stdout",
     "output_type": "stream",
     "text": [
      "root\n",
      " |-- equipment_id: integer (nullable = true)\n",
      " |-- timestamp: timestamp (nullable = true)\n",
      " |-- temperature: double (nullable = true)\n",
      " |-- vibration: double (nullable = true)\n",
      " |-- pressure: double (nullable = true)\n",
      " |-- rotational_speed: double (nullable = true)\n",
      " |-- power_output: double (nullable = true)\n",
      " |-- noise_level: double (nullable = true)\n",
      " |-- voltage: double (nullable = true)\n",
      " |-- current: double (nullable = true)\n",
      " |-- oil_viscosity: double (nullable = true)\n",
      " |-- model: string (nullable = true)\n",
      " |-- manufacturer: string (nullable = true)\n",
      " |-- installation_date: timestamp (nullable = true)\n",
      " |-- max_temperature: double (nullable = true)\n",
      " |-- max_pressure: double (nullable = true)\n",
      " |-- max_rotational_speed: double (nullable = true)\n",
      " |-- expected_lifetime_years: double (nullable = true)\n",
      " |-- warranty_period_years: integer (nullable = true)\n",
      " |-- last_major_overhaul: timestamp (nullable = true)\n",
      " |-- location: string (nullable = true)\n",
      " |-- criticality: string (nullable = true)\n",
      " |-- maintenance_type: string (nullable = true)\n",
      " |-- description: string (nullable = true)\n",
      " |-- technician_id: integer (nullable = true)\n",
      " |-- duration_hours: double (nullable = true)\n",
      " |-- cost: double (nullable = true)\n",
      " |-- parts_replaced: string (nullable = true)\n",
      " |-- maintenance_result: string (nullable = true)\n",
      " |-- maintenance_date: timestamp (nullable = true)\n",
      " |-- production_rate: double (nullable = true)\n",
      " |-- operating_hours: double (nullable = true)\n",
      " |-- downtime_hours: double (nullable = true)\n",
      " |-- operator_id: integer (nullable = true)\n",
      " |-- product_type: string (nullable = true)\n",
      " |-- raw_material_quality: string (nullable = true)\n",
      " |-- ambient_temperature: double (nullable = true)\n",
      " |-- ambient_humidity: double (nullable = true)\n",
      " |-- operation_date: timestamp (nullable = true)\n",
      " |-- days_since_maintenance: integer (nullable = true)\n",
      " |-- equipment_age_days: integer (nullable = true)\n",
      " |-- days_since_overhaul: integer (nullable = true)\n",
      " |-- temp_pct_of_max: double (nullable = true)\n",
      " |-- pressure_pct_of_max: double (nullable = true)\n",
      " |-- speed_pct_of_max: double (nullable = true)\n",
      " |-- cumulative_maintenance_cost: double (nullable = true)\n",
      " |-- cumulative_operating_hours: double (nullable = true)\n",
      " |-- estimated_rul: double (nullable = true)\n",
      " |-- criticality_encoded: double (nullable = true)\n",
      " |-- maintenance_type_encoded: double (nullable = true)\n",
      " |-- maintenance_result_encoded: double (nullable = true)\n",
      " |-- product_type_encoded: double (nullable = true)\n",
      " |-- raw_material_quality_encoded: double (nullable = true)\n",
      " |-- parts_replaced_encoded: double (nullable = true)\n",
      " |-- temperature_is_outlier: string (nullable = false)\n",
      " |-- vibration_is_outlier: string (nullable = false)\n",
      " |-- noise_level_is_outlier: string (nullable = false)\n",
      " |-- oil_viscosity_is_outlier: string (nullable = false)\n",
      " |-- power_output_is_outlier: string (nullable = false)\n",
      " |-- pressure_pct_of_max_is_outlier: string (nullable = false)\n",
      " |-- speed_pct_of_max_is_outlier: string (nullable = false)\n",
      " |-- voltage_is_outlier: string (nullable = false)\n",
      " |-- current_is_outlier: string (nullable = false)\n",
      " |-- avg_temp: double (nullable = true)\n",
      " |-- equipment_type: string (nullable = false)\n",
      " |-- temp_warning: string (nullable = false)\n",
      " |-- vibration_warning: string (nullable = false)\n",
      " |-- pressure_warning: string (nullable = false)\n",
      " |-- speed_warning: string (nullable = false)\n",
      " |-- power_warning: string (nullable = false)\n",
      " |-- noise_warning: string (nullable = false)\n",
      " |-- oil_warning: string (nullable = false)\n",
      " |-- system_warning: string (nullable = false)\n",
      "\n"
     ]
    }
   ],
   "source": [
    "df_with_warnings.printSchema()"
   ]
  },
  {
   "cell_type": "code",
   "execution_count": 20,
   "id": "93dd9c236db1d34e",
   "metadata": {
    "ExecuteTime": {
     "end_time": "2024-10-20T13:35:32.486784Z",
     "start_time": "2024-10-20T13:35:32.125256Z"
    }
   },
   "outputs": [
    {
     "name": "stdout",
     "output_type": "stream",
     "text": [
      "Kiểu dữ liệu của các cột:\n",
      "equipment_id: int\n",
      "timestamp: timestamp\n",
      "temperature: double\n",
      "vibration: double\n",
      "pressure: double\n",
      "rotational_speed: double\n",
      "power_output: double\n",
      "noise_level: double\n",
      "voltage: double\n",
      "current: double\n",
      "oil_viscosity: double\n",
      "model: string\n",
      "manufacturer: string\n",
      "installation_date: timestamp\n",
      "max_temperature: double\n",
      "max_pressure: double\n",
      "max_rotational_speed: double\n",
      "expected_lifetime_years: double\n",
      "warranty_period_years: int\n",
      "last_major_overhaul: timestamp\n",
      "location: string\n",
      "criticality: string\n",
      "maintenance_type: string\n",
      "description: string\n",
      "technician_id: int\n",
      "duration_hours: double\n",
      "cost: double\n",
      "parts_replaced: string\n",
      "maintenance_result: string\n",
      "maintenance_date: timestamp\n",
      "production_rate: double\n",
      "operating_hours: double\n",
      "downtime_hours: double\n",
      "operator_id: int\n",
      "product_type: string\n",
      "raw_material_quality: string\n",
      "ambient_temperature: double\n",
      "ambient_humidity: double\n",
      "operation_date: timestamp\n",
      "days_since_maintenance: int\n",
      "equipment_age_days: int\n",
      "days_since_overhaul: int\n",
      "temp_pct_of_max: double\n",
      "pressure_pct_of_max: double\n",
      "speed_pct_of_max: double\n",
      "cumulative_maintenance_cost: double\n",
      "cumulative_operating_hours: double\n",
      "estimated_rul: double\n",
      "criticality_encoded: double\n",
      "maintenance_type_encoded: double\n",
      "maintenance_result_encoded: double\n",
      "product_type_encoded: double\n",
      "raw_material_quality_encoded: double\n",
      "parts_replaced_encoded: double\n",
      "temperature_is_outlier: string\n",
      "vibration_is_outlier: string\n",
      "noise_level_is_outlier: string\n",
      "oil_viscosity_is_outlier: string\n",
      "power_output_is_outlier: string\n",
      "pressure_pct_of_max_is_outlier: string\n",
      "speed_pct_of_max_is_outlier: string\n",
      "voltage_is_outlier: string\n",
      "current_is_outlier: string\n",
      "avg_temp: double\n",
      "equipment_type: string\n",
      "temp_warning: string\n",
      "vibration_warning: string\n",
      "pressure_warning: string\n",
      "speed_warning: string\n",
      "power_warning: string\n",
      "noise_warning: string\n",
      "oil_warning: string\n",
      "system_warning: string\n"
     ]
    }
   ],
   "source": [
    "# Kiểm tra kiểu dữ liệu\n",
    "print(\"Kiểu dữ liệu của các cột:\")\n",
    "for col_name in df_with_warnings.columns:\n",
    "    print(f\"{col_name}: {df_with_warnings.select(col_name).dtypes[0][1]}\")"
   ]
  },
  {
   "cell_type": "code",
   "execution_count": 21,
   "id": "d2c34d2cfb49e0d8",
   "metadata": {
    "ExecuteTime": {
     "end_time": "2024-10-20T13:35:55.736564Z",
     "start_time": "2024-10-20T13:35:32.497492Z"
    }
   },
   "outputs": [
    {
     "name": "stdout",
     "output_type": "stream",
     "text": [
      "+------------+--------------------+-----------+----------+---------+----------------+------------+-----------+---------+---------+-------------+----------+-------------+--------------------+---------------+------------+--------------------+-----------------------+---------------------+--------------------+---------+-----------+----------------+--------------------+-------------+--------------+---------+--------------+------------------+--------------------+---------------+------------------+------------------+-----------+------------+--------------------+-------------------+----------------+--------------------+----------------------+------------------+-------------------+------------------+-------------------+-----------------+---------------------------+--------------------------+-------------+-------------------+------------------------+--------------------------+--------------------+----------------------------+----------------------+----------------------+--------------------+----------------------+------------------------+-----------------------+------------------------------+---------------------------+------------------+------------------+-----------------+--------------+------------+-----------------+----------------+-------------+-------------+-------------+-----------+--------------+----------------------+\n",
      "|equipment_id|           timestamp|temperature| vibration| pressure|rotational_speed|power_output|noise_level|  voltage|  current|oil_viscosity|     model| manufacturer|   installation_date|max_temperature|max_pressure|max_rotational_speed|expected_lifetime_years|warranty_period_years| last_major_overhaul| location|criticality|maintenance_type|         description|technician_id|duration_hours|     cost|parts_replaced|maintenance_result|    maintenance_date|production_rate|   operating_hours|    downtime_hours|operator_id|product_type|raw_material_quality|ambient_temperature|ambient_humidity|      operation_date|days_since_maintenance|equipment_age_days|days_since_overhaul|   temp_pct_of_max|pressure_pct_of_max| speed_pct_of_max|cumulative_maintenance_cost|cumulative_operating_hours|estimated_rul|criticality_encoded|maintenance_type_encoded|maintenance_result_encoded|product_type_encoded|raw_material_quality_encoded|parts_replaced_encoded|temperature_is_outlier|vibration_is_outlier|noise_level_is_outlier|oil_viscosity_is_outlier|power_output_is_outlier|pressure_pct_of_max_is_outlier|speed_pct_of_max_is_outlier|voltage_is_outlier|current_is_outlier|         avg_temp|equipment_type|temp_warning|vibration_warning|pressure_warning|speed_warning|power_warning|noise_warning|oil_warning|system_warning|system_warning_encoded|\n",
      "+------------+--------------------+-----------+----------+---------+----------------+------------+-----------+---------+---------+-------------+----------+-------------+--------------------+---------------+------------+--------------------+-----------------------+---------------------+--------------------+---------+-----------+----------------+--------------------+-------------+--------------+---------+--------------+------------------+--------------------+---------------+------------------+------------------+-----------+------------+--------------------+-------------------+----------------+--------------------+----------------------+------------------+-------------------+------------------+-------------------+-----------------+---------------------------+--------------------------+-------------+-------------------+------------------------+--------------------------+--------------------+----------------------------+----------------------+----------------------+--------------------+----------------------+------------------------+-----------------------+------------------------------+---------------------------+------------------+------------------+-----------------+--------------+------------+-----------------+----------------+-------------+-------------+-------------+-----------+--------------+----------------------+\n",
      "|          31|2021-10-10 13:33:...|   66.11339| 0.5686021|113.07286|       1008.9889|   409.83102|   73.59045|226.71875|105.19846|    42.822212|Model-4627|ManufacturerA|2021-03-01 13:34:...|       96.07525|   156.61642|            1376.648|              17.145212|                    4|2025-12-10 13:34:...|Section-5|     Medium|     Replacement|Replacement maint...|            9|     3.2759128|1998.8634|          None|        Successful|2024-07-31 13:34:...|       96.21367|22.000963893473315|1.9990361065266855|         43|       TypeB|                High|          23.039305|       50.552826|2021-10-10 13:34:...|                  1025|               223|               1522| 68.81417430607777|  72.19732132812128| 73.2931657184698|                  1998.8634|        22.000963893473315|   6035.00238|                0.0|                     3.0|                       0.0|                 2.0|                         0.0|                   0.0|           not_outlier|         not_outlier|           not_outlier|             not_outlier|            not_outlier|                   not_outlier|                not_outlier|       not_outlier|       not_outlier|59.96122197099147|           hot|      Normal|           Normal|          Normal|       Normal|       Normal|       Normal|     Normal|        Normal|                   0.0|\n",
      "|          31|2021-10-10 19:33:...|  52.309208|0.36798212|97.595604|       1196.7042|    482.5365|    69.7443|222.31857|91.183304|    47.995625|Model-4627|ManufacturerA|2021-03-01 13:34:...|       96.07525|   156.61642|            1376.648|              17.145212|                    4|2025-12-10 13:34:...|Section-5|     Medium|     Replacement|Replacement maint...|            9|     3.2759128|1998.8634|          None|        Successful|2024-07-31 13:34:...|       96.21367|22.000963893473315|1.9990361065266855|         43|       TypeB|                High|          23.039305|       50.552826|2021-10-10 13:34:...|                  1025|               223|               1522|  54.4460805462385|  62.31505227868188|86.92884455576153|                  3997.7268|         44.00192778694663|   6035.00238|                0.0|                     3.0|                       0.0|                 2.0|                         0.0|                   0.0|           not_outlier|         not_outlier|           not_outlier|             not_outlier|            not_outlier|                   not_outlier|                not_outlier|       not_outlier|       not_outlier|59.96122197099147|           hot|     Warning|           Normal|          Normal|      Warning|       Normal|       Normal|     Normal|       Warning|                   1.0|\n",
      "|          31|2021-10-11 01:33:...|  44.725586|0.57260543| 95.95008|       970.03625|   452.11908|  73.790665|240.29715| 95.22802|    50.307762|Model-4627|ManufacturerA|2021-03-01 13:34:...|       96.07525|   156.61642|            1376.648|              17.145212|                    4|2025-12-10 13:34:...|Section-5|     Medium|     Replacement|Replacement maint...|            9|     3.2759128|1998.8634|          None|        Successful|2024-07-31 13:34:...|      88.138985|         21.792072|         0.5662437|         12|       TypeB|              Medium|          28.172447|         61.0783|2021-10-11 13:34:...|                  1024|               224|               1521|46.552661585580054|  61.26438083567483|70.46363703720922|                  5996.5902|         65.79399978694663|   6034.00238|                0.0|                     3.0|                       0.0|                 2.0|                         1.0|                   0.0|           not_outlier|         not_outlier|           not_outlier|             not_outlier|            not_outlier|                   not_outlier|                not_outlier|       not_outlier|       not_outlier|59.96122197099147|           hot|     Warning|           Normal|          Normal|       Normal|       Normal|       Normal|     Normal|       Warning|                   1.0|\n",
      "|          31|2021-10-11 07:33:...|  47.775455|0.39769715|133.06326|        943.6766|   554.05176|   65.55634|221.46417|118.75781|     53.72231|Model-4627|ManufacturerA|2021-03-01 13:34:...|       96.07525|   156.61642|            1376.648|              17.145212|                    4|2025-12-10 13:34:...|Section-5|     Medium|     Replacement|Replacement maint...|            9|     3.2759128|1998.8634|          None|        Successful|2024-07-31 13:34:...|      88.138985|         21.792072|         0.5662437|         12|       TypeB|              Medium|          28.172447|         61.0783|2021-10-11 13:34:...|                  1024|               224|               1521|49.727120148008986|  84.96124480434428|68.54886652216108|                  7995.4536|         87.58607178694663|   6034.00238|                0.0|                     3.0|                       0.0|                 2.0|                         1.0|                   0.0|           not_outlier|         not_outlier|           not_outlier|             not_outlier|            not_outlier|                   not_outlier|                not_outlier|       not_outlier|       not_outlier|59.96122197099147|           hot|     Warning|           Normal|          Normal|       Normal|       Normal|       Normal|     Normal|       Warning|                   1.0|\n",
      "|          31|2021-10-11 13:33:...|  73.345024|0.38511002| 76.54087|       1048.1967|   486.22903|   75.02532|214.98962|105.63077|    48.847843|Model-4627|ManufacturerA|2021-03-01 13:34:...|       96.07525|   156.61642|            1376.648|              17.145212|                    4|2025-12-10 13:34:...|Section-5|     Medium|     Replacement|Replacement maint...|            9|     3.2759128|1998.8634|          None|        Successful|2024-07-31 13:34:...|      88.138985|         21.792072|         0.5662437|         12|       TypeB|              Medium|          28.172447|         61.0783|2021-10-11 13:34:...|                  1024|               224|               1521| 76.34122627835993|  48.87154871756103|76.14122854934595|                   9994.317|        109.37814378694664|   6034.00238|                0.0|                     3.0|                       0.0|                 2.0|                         1.0|                   0.0|           not_outlier|         not_outlier|           not_outlier|             not_outlier|            not_outlier|                   not_outlier|                not_outlier|       not_outlier|       not_outlier|59.96122197099147|           hot|      Normal|           Normal|          Normal|       Normal|       Normal|       Normal|     Normal|        Normal|                   0.0|\n",
      "+------------+--------------------+-----------+----------+---------+----------------+------------+-----------+---------+---------+-------------+----------+-------------+--------------------+---------------+------------+--------------------+-----------------------+---------------------+--------------------+---------+-----------+----------------+--------------------+-------------+--------------+---------+--------------+------------------+--------------------+---------------+------------------+------------------+-----------+------------+--------------------+-------------------+----------------+--------------------+----------------------+------------------+-------------------+------------------+-------------------+-----------------+---------------------------+--------------------------+-------------+-------------------+------------------------+--------------------------+--------------------+----------------------------+----------------------+----------------------+--------------------+----------------------+------------------------+-----------------------+------------------------------+---------------------------+------------------+------------------+-----------------+--------------+------------+-----------------+----------------+-------------+-------------+-------------+-----------+--------------+----------------------+\n",
      "only showing top 5 rows\n",
      "\n"
     ]
    }
   ],
   "source": [
    "# Encode categorical variables\n",
    "indexer = StringIndexer(inputCol='system_warning', outputCol='system_warning_encoded')\n",
    "final_df = indexer.fit(df_with_warnings).transform(df_with_warnings)\n",
    "final_df.show(5)"
   ]
  },
  {
   "cell_type": "code",
   "execution_count": 22,
   "id": "c020d095a61dace2",
   "metadata": {
    "ExecuteTime": {
     "end_time": "2024-10-20T13:35:56.306955Z",
     "start_time": "2024-10-20T13:35:55.751879Z"
    }
   },
   "outputs": [
    {
     "name": "stdout",
     "output_type": "stream",
     "text": [
      "Kiểu dữ liệu của các cột:\n",
      "equipment_id: int\n",
      "timestamp: timestamp\n",
      "temperature: double\n",
      "vibration: double\n",
      "pressure: double\n",
      "rotational_speed: double\n",
      "power_output: double\n",
      "noise_level: double\n",
      "voltage: double\n",
      "current: double\n",
      "oil_viscosity: double\n",
      "model: string\n",
      "manufacturer: string\n",
      "installation_date: timestamp\n",
      "max_temperature: double\n",
      "max_pressure: double\n",
      "max_rotational_speed: double\n",
      "expected_lifetime_years: double\n",
      "warranty_period_years: int\n",
      "last_major_overhaul: timestamp\n",
      "location: string\n",
      "criticality: string\n",
      "maintenance_type: string\n",
      "description: string\n",
      "technician_id: int\n",
      "duration_hours: double\n",
      "cost: double\n",
      "parts_replaced: string\n",
      "maintenance_result: string\n",
      "maintenance_date: timestamp\n",
      "production_rate: double\n",
      "operating_hours: double\n",
      "downtime_hours: double\n",
      "operator_id: int\n",
      "product_type: string\n",
      "raw_material_quality: string\n",
      "ambient_temperature: double\n",
      "ambient_humidity: double\n",
      "operation_date: timestamp\n",
      "days_since_maintenance: int\n",
      "equipment_age_days: int\n",
      "days_since_overhaul: int\n",
      "temp_pct_of_max: double\n",
      "pressure_pct_of_max: double\n",
      "speed_pct_of_max: double\n",
      "cumulative_maintenance_cost: double\n",
      "cumulative_operating_hours: double\n",
      "estimated_rul: double\n",
      "criticality_encoded: double\n",
      "maintenance_type_encoded: double\n",
      "maintenance_result_encoded: double\n",
      "product_type_encoded: double\n",
      "raw_material_quality_encoded: double\n",
      "parts_replaced_encoded: double\n",
      "temperature_is_outlier: string\n",
      "vibration_is_outlier: string\n",
      "noise_level_is_outlier: string\n",
      "oil_viscosity_is_outlier: string\n",
      "power_output_is_outlier: string\n",
      "pressure_pct_of_max_is_outlier: string\n",
      "speed_pct_of_max_is_outlier: string\n",
      "voltage_is_outlier: string\n",
      "current_is_outlier: string\n",
      "avg_temp: double\n",
      "equipment_type: string\n",
      "temp_warning: string\n",
      "vibration_warning: string\n",
      "pressure_warning: string\n",
      "speed_warning: string\n",
      "power_warning: string\n",
      "noise_warning: string\n",
      "oil_warning: string\n",
      "system_warning: string\n",
      "system_warning_encoded: double\n"
     ]
    }
   ],
   "source": [
    "# Kiểm tra kiểu dữ liệu\n",
    "print(\"Kiểu dữ liệu của các cột:\")\n",
    "for col_name in final_df.columns:\n",
    "    print(f\"{col_name}: {final_df.select(col_name).dtypes[0][1]}\")"
   ]
  },
  {
   "cell_type": "code",
   "execution_count": 23,
   "id": "1e81943204574a59",
   "metadata": {
    "ExecuteTime": {
     "end_time": "2024-10-20T13:35:56.329916Z",
     "start_time": "2024-10-20T13:35:56.321499Z"
    }
   },
   "outputs": [],
   "source": [
    "# Chọn features và label\n",
    "feature_columns = [col for col in df_with_warnings.columns if col not in [\n",
    "    'system_warning', \n",
    "    'system_warning_encoded', \n",
    "    'equipment_type', \n",
    "    'equipment_id', \n",
    "    'timestamp', \n",
    "    'rotational_speed', \n",
    "    'voltage', \n",
    "    'current', \n",
    "    'model', \n",
    "    'manufacturer', \n",
    "    'installation_date', \n",
    "    'max_temperature', \n",
    "    'max_pressure', \n",
    "    'max_rotational_speed', \n",
    "    'expected_lifetime_years', \n",
    "    'warranty_period_years', \n",
    "    'last_major_overhaul', \n",
    "    'location', \n",
    "    'criticality', \n",
    "    'maintenance_type', \n",
    "    'description', \n",
    "    'technician_id', \n",
    "    'duration_hours', \n",
    "    'cost', \n",
    "    'parts_replaced', \n",
    "    'maintenance_result', \n",
    "    'maintenance_date', \n",
    "    'production_rate', \n",
    "    'operating_hours', \n",
    "    'downtime_hours', \n",
    "    'operator_id', \n",
    "    'product_type', \n",
    "    'raw_material_quality', \n",
    "    'ambient_temperature', \n",
    "    'ambient_humidity', \n",
    "    'operation_date', \n",
    "    'days_since_maintenance', \n",
    "    'equipment_age_days', \n",
    "    'days_since_overhaul', \n",
    "    'cumulative_maintenance_cost', \n",
    "    'cumulative_operating_hours', \n",
    "    'estimated_rul', \n",
    "    'criticality_encoded', \n",
    "    'maintenance_type_encoded', \n",
    "    'maintenance_result_encoded', \n",
    "    'product_type_encoded', \n",
    "    'raw_material_quality_encoded', \n",
    "    'parts_replaced_encoded', \n",
    "    'temperature_is_outlier', \n",
    "    'vibration_is_outlier', \n",
    "    'noise_level_is_outlier', \n",
    "    'oil_viscosity_is_outlier', \n",
    "    'power_output_is_outlier', \n",
    "    'pressure_pct_of_max_is_outlier', \n",
    "    'speed_pct_of_max_is_outlier', \n",
    "    'voltage_is_outlier', \n",
    "    'current_is_outlier', \n",
    "    'avg_temp', \n",
    "    'temp_warning', \n",
    "    'vibration_warning', \n",
    "    'pressure_warning', \n",
    "    'speed_warning', \n",
    "    'power_warning', \n",
    "    'noise_warning', \n",
    "    'oil_warning']]"
   ]
  },
  {
   "cell_type": "code",
   "execution_count": 24,
   "id": "cd4735ea",
   "metadata": {
    "ExecuteTime": {
     "end_time": "2024-10-20T13:35:56.479412Z",
     "start_time": "2024-10-20T13:35:56.366780Z"
    }
   },
   "outputs": [],
   "source": [
    "# Tạo vector features\n",
    "assembler = VectorAssembler(inputCols=feature_columns, outputCol=\"features\")\n",
    "data_model = assembler.transform(final_df)\n",
    "\n",
    "# Chia train/test (70/30)\n",
    "train_data, test_data = data_model.randomSplit([0.8, 0.2], seed=42)"
   ]
  },
  {
   "cell_type": "code",
   "execution_count": 25,
   "id": "1390b3a1",
   "metadata": {
    "ExecuteTime": {
     "end_time": "2024-10-20T13:36:11.234099Z",
     "start_time": "2024-10-20T13:35:56.502837Z"
    }
   },
   "outputs": [
    {
     "name": "stdout",
     "output_type": "stream",
     "text": [
      "+------------+--------------------+-----------+----------+---------+----------------+------------+-----------+---------+---------+-------------+----------+-------------+--------------------+---------------+------------+--------------------+-----------------------+---------------------+--------------------+---------+-----------+----------------+--------------------+-------------+--------------+---------+--------------+------------------+--------------------+---------------+------------------+------------------+-----------+------------+--------------------+-------------------+----------------+--------------------+----------------------+------------------+-------------------+------------------+-------------------+-----------------+---------------------------+--------------------------+-------------+-------------------+------------------------+--------------------------+--------------------+----------------------------+----------------------+----------------------+--------------------+----------------------+------------------------+-----------------------+------------------------------+---------------------------+------------------+------------------+-----------------+--------------+------------+-----------------+----------------+-------------+-------------+-------------+-----------+--------------+----------------------+--------------------+\n",
      "|equipment_id|           timestamp|temperature| vibration| pressure|rotational_speed|power_output|noise_level|  voltage|  current|oil_viscosity|     model| manufacturer|   installation_date|max_temperature|max_pressure|max_rotational_speed|expected_lifetime_years|warranty_period_years| last_major_overhaul| location|criticality|maintenance_type|         description|technician_id|duration_hours|     cost|parts_replaced|maintenance_result|    maintenance_date|production_rate|   operating_hours|    downtime_hours|operator_id|product_type|raw_material_quality|ambient_temperature|ambient_humidity|      operation_date|days_since_maintenance|equipment_age_days|days_since_overhaul|   temp_pct_of_max|pressure_pct_of_max| speed_pct_of_max|cumulative_maintenance_cost|cumulative_operating_hours|estimated_rul|criticality_encoded|maintenance_type_encoded|maintenance_result_encoded|product_type_encoded|raw_material_quality_encoded|parts_replaced_encoded|temperature_is_outlier|vibration_is_outlier|noise_level_is_outlier|oil_viscosity_is_outlier|power_output_is_outlier|pressure_pct_of_max_is_outlier|speed_pct_of_max_is_outlier|voltage_is_outlier|current_is_outlier|         avg_temp|equipment_type|temp_warning|vibration_warning|pressure_warning|speed_warning|power_warning|noise_warning|oil_warning|system_warning|system_warning_encoded|            features|\n",
      "+------------+--------------------+-----------+----------+---------+----------------+------------+-----------+---------+---------+-------------+----------+-------------+--------------------+---------------+------------+--------------------+-----------------------+---------------------+--------------------+---------+-----------+----------------+--------------------+-------------+--------------+---------+--------------+------------------+--------------------+---------------+------------------+------------------+-----------+------------+--------------------+-------------------+----------------+--------------------+----------------------+------------------+-------------------+------------------+-------------------+-----------------+---------------------------+--------------------------+-------------+-------------------+------------------------+--------------------------+--------------------+----------------------------+----------------------+----------------------+--------------------+----------------------+------------------------+-----------------------+------------------------------+---------------------------+------------------+------------------+-----------------+--------------+------------+-----------------+----------------+-------------+-------------+-------------+-----------+--------------+----------------------+--------------------+\n",
      "|          31|2021-10-10 13:33:...|   66.11339| 0.5686021|113.07286|       1008.9889|   409.83102|   73.59045|226.71875|105.19846|    42.822212|Model-4627|ManufacturerA|2021-03-01 13:34:...|       96.07525|   156.61642|            1376.648|              17.145212|                    4|2025-12-10 13:34:...|Section-5|     Medium|     Replacement|Replacement maint...|            9|     3.2759128|1998.8634|          None|        Successful|2024-07-31 13:34:...|       96.21367|22.000963893473315|1.9990361065266855|         43|       TypeB|                High|          23.039305|       50.552826|2021-10-10 13:34:...|                  1025|               223|               1522| 68.81417430607777|  72.19732132812128| 73.2931657184698|                  1998.8634|        22.000963893473315|   6035.00238|                0.0|                     3.0|                       0.0|                 2.0|                         0.0|                   0.0|           not_outlier|         not_outlier|           not_outlier|             not_outlier|            not_outlier|                   not_outlier|                not_outlier|       not_outlier|       not_outlier|59.96122197099147|           hot|      Normal|           Normal|          Normal|       Normal|       Normal|       Normal|     Normal|        Normal|                   0.0|[66.11339,0.56860...|\n",
      "|          31|2021-10-10 19:33:...|  52.309208|0.36798212|97.595604|       1196.7042|    482.5365|    69.7443|222.31857|91.183304|    47.995625|Model-4627|ManufacturerA|2021-03-01 13:34:...|       96.07525|   156.61642|            1376.648|              17.145212|                    4|2025-12-10 13:34:...|Section-5|     Medium|     Replacement|Replacement maint...|            9|     3.2759128|1998.8634|          None|        Successful|2024-07-31 13:34:...|       96.21367|22.000963893473315|1.9990361065266855|         43|       TypeB|                High|          23.039305|       50.552826|2021-10-10 13:34:...|                  1025|               223|               1522|  54.4460805462385|  62.31505227868188|86.92884455576153|                  3997.7268|         44.00192778694663|   6035.00238|                0.0|                     3.0|                       0.0|                 2.0|                         0.0|                   0.0|           not_outlier|         not_outlier|           not_outlier|             not_outlier|            not_outlier|                   not_outlier|                not_outlier|       not_outlier|       not_outlier|59.96122197099147|           hot|     Warning|           Normal|          Normal|      Warning|       Normal|       Normal|     Normal|       Warning|                   1.0|[52.309208,0.3679...|\n",
      "|          31|2021-10-11 07:33:...|  47.775455|0.39769715|133.06326|        943.6766|   554.05176|   65.55634|221.46417|118.75781|     53.72231|Model-4627|ManufacturerA|2021-03-01 13:34:...|       96.07525|   156.61642|            1376.648|              17.145212|                    4|2025-12-10 13:34:...|Section-5|     Medium|     Replacement|Replacement maint...|            9|     3.2759128|1998.8634|          None|        Successful|2024-07-31 13:34:...|      88.138985|         21.792072|         0.5662437|         12|       TypeB|              Medium|          28.172447|         61.0783|2021-10-11 13:34:...|                  1024|               224|               1521|49.727120148008986|  84.96124480434428|68.54886652216108|                  7995.4536|         87.58607178694663|   6034.00238|                0.0|                     3.0|                       0.0|                 2.0|                         1.0|                   0.0|           not_outlier|         not_outlier|           not_outlier|             not_outlier|            not_outlier|                   not_outlier|                not_outlier|       not_outlier|       not_outlier|59.96122197099147|           hot|     Warning|           Normal|          Normal|       Normal|       Normal|       Normal|     Normal|       Warning|                   1.0|[47.775455,0.3976...|\n",
      "|          31|2021-10-11 13:33:...|  73.345024|0.38511002| 76.54087|       1048.1967|   486.22903|   75.02532|214.98962|105.63077|    48.847843|Model-4627|ManufacturerA|2021-03-01 13:34:...|       96.07525|   156.61642|            1376.648|              17.145212|                    4|2025-12-10 13:34:...|Section-5|     Medium|     Replacement|Replacement maint...|            9|     3.2759128|1998.8634|          None|        Successful|2024-07-31 13:34:...|      88.138985|         21.792072|         0.5662437|         12|       TypeB|              Medium|          28.172447|         61.0783|2021-10-11 13:34:...|                  1024|               224|               1521| 76.34122627835993|  48.87154871756103|76.14122854934595|                   9994.317|        109.37814378694664|   6034.00238|                0.0|                     3.0|                       0.0|                 2.0|                         1.0|                   0.0|           not_outlier|         not_outlier|           not_outlier|             not_outlier|            not_outlier|                   not_outlier|                not_outlier|       not_outlier|       not_outlier|59.96122197099147|           hot|      Normal|           Normal|          Normal|       Normal|       Normal|       Normal|     Normal|        Normal|                   0.0|[73.345024,0.3851...|\n",
      "|          31|2021-10-11 19:33:...|  62.616104|0.48605728|  93.5484|       1069.2535|   401.94406|   73.47405|237.06032|103.28839|    51.235996|Model-4627|ManufacturerA|2021-03-01 13:34:...|       96.07525|   156.61642|            1376.648|              17.145212|                    4|2025-12-10 13:34:...|Section-5|     Medium|     Replacement|Replacement maint...|            9|     3.2759128|1998.8634|          None|        Successful|2024-07-31 13:34:...|      88.138985|         21.792072|         0.5662437|         12|       TypeB|              Medium|          28.172447|         61.0783|2021-10-11 13:34:...|                  1024|               224|               1521| 65.17402140509652| 59.730901779008875|77.67079892608713|                 11993.1804|        131.17021578694664|   6034.00238|                0.0|                     3.0|                       0.0|                 2.0|                         1.0|                   0.0|           not_outlier|         not_outlier|           not_outlier|             not_outlier|            not_outlier|                   not_outlier|                not_outlier|       not_outlier|       not_outlier|59.96122197099147|           hot|      Normal|           Normal|          Normal|       Normal|       Normal|       Normal|     Normal|        Normal|                   0.0|[62.616104,0.4860...|\n",
      "+------------+--------------------+-----------+----------+---------+----------------+------------+-----------+---------+---------+-------------+----------+-------------+--------------------+---------------+------------+--------------------+-----------------------+---------------------+--------------------+---------+-----------+----------------+--------------------+-------------+--------------+---------+--------------+------------------+--------------------+---------------+------------------+------------------+-----------+------------+--------------------+-------------------+----------------+--------------------+----------------------+------------------+-------------------+------------------+-------------------+-----------------+---------------------------+--------------------------+-------------+-------------------+------------------------+--------------------------+--------------------+----------------------------+----------------------+----------------------+--------------------+----------------------+------------------------+-----------------------+------------------------------+---------------------------+------------------+------------------+-----------------+--------------+------------+-----------------+----------------+-------------+-------------+-------------+-----------+--------------+----------------------+--------------------+\n",
      "only showing top 5 rows\n",
      "\n"
     ]
    }
   ],
   "source": [
    "train_data.show(5)"
   ]
  },
  {
   "cell_type": "code",
   "execution_count": null,
   "id": "c32b161eca8bb76a",
   "metadata": {},
   "outputs": [],
   "source": [
    "# # GBM Model\n",
    "gbm = GBTClassifier(labelCol=\"system_warning_encoded\", featuresCol=\"features\", maxIter=10)\n",
    "gbm_model = gbm.fit(train_data)\n",
    "\n",
    "# Random Forest Model\n",
    "rf = RandomForestClassifier(labelCol=\"system_warning_encoded\", featuresCol=\"features\", numTrees=100)\n",
    "rf_model = rf.fit(train_data)"
   ]
  },
  {
   "cell_type": "code",
   "execution_count": null,
   "id": "5a90d0b1305e4941",
   "metadata": {},
   "outputs": [],
   "source": [
    "from pyspark.ml.evaluation import BinaryClassificationEvaluator\n",
    "evaluator = BinaryClassificationEvaluator(labelCol=\"label\")\n",
    "# \n",
    "# # Dự đoán và đánh giá\n",
    "gbm_predictions = gbm_model.transform(test_data)\n",
    "rf_predictions = rf_model.transform(test_data)\n",
    "# \n",
    "# # Tính AUC-ROC\n",
    "gbm_auc = evaluator.evaluate(gbm_predictions)\n",
    "rf_auc = evaluator.evaluate(rf_predictions)\n",
    "# \n",
    "print(f\"GBM AUC: {gbm_auc}\")\n",
    "print(f\"Random Forest AUC: {rf_auc}\")"
   ]
  },
  {
   "cell_type": "code",
   "execution_count": null,
   "id": "db65b50b06050b5a",
   "metadata": {},
   "outputs": [],
   "source": [
    "from pyspark.ml.evaluation import MulticlassClassificationEvaluator\n",
    "from pyspark.mllib.evaluation import MulticlassMetrics\n",
    "from pyspark.sql.functions import col\n",
    "\n",
    "# Tạo hàm đánh giá metrics\n",
    "def evaluate_model(predictions, model_name):\n",
    "    # Accuracy\n",
    "    evaluator = MulticlassClassificationEvaluator(labelCol=\"label\", predictionCol=\"prediction\", metricName=\"accuracy\")\n",
    "    accuracy = evaluator.evaluate(predictions)\n",
    "    \n",
    "    # Precision\n",
    "    evaluator.setMetricName(\"weightedPrecision\")\n",
    "    precision = evaluator.evaluate(predictions)\n",
    "    \n",
    "    # Recall\n",
    "    evaluator.setMetricName(\"weightedRecall\")\n",
    "    recall = evaluator.evaluate(predictions)\n",
    "    \n",
    "    # F1 Score\n",
    "    evaluator.setMetricName(\"f1\")\n",
    "    f1 = evaluator.evaluate(predictions)\n",
    "    \n",
    "    print(f\"\\nMetrics for {model_name}:\")\n",
    "    print(f\"Accuracy: {accuracy:.4f}\")\n",
    "    print(f\"Precision: {precision:.4f}\")\n",
    "    print(f\"Recall: {recall:.4f}\")\n",
    "    print(f\"F1 Score: {f1:.4f}\")\n",
    "    \n",
    "    # Confusion Matrix\n",
    "    predictions_and_labels = predictions.select(['prediction', 'label'])\n",
    "    metrics = MulticlassMetrics(predictions_and_labels.rdd.map(lambda x: (float(x[0]), float(x[1]))))\n",
    "    print(\"\\nConfusion Matrix:\")\n",
    "    print(metrics.confusionMatrix().toArray())\n",
    "# \n",
    "# # Đánh giá cho cả 2 mô hình\n",
    "evaluate_model(gbm_predictions, \"Gradient Boosting Machine\")\n",
    "evaluate_model(rf_predictions, \"Random Forest\")"
   ]
  }
 ],
 "metadata": {
  "kernelspec": {
   "display_name": "Python 3 (ipykernel)",
   "language": "python",
   "name": "python3"
  },
  "language_info": {
   "codemirror_mode": {
    "name": "ipython",
    "version": 3
   },
   "file_extension": ".py",
   "mimetype": "text/x-python",
   "name": "python",
   "nbconvert_exporter": "python",
   "pygments_lexer": "ipython3",
   "version": "3.12.3"
  }
 },
 "nbformat": 4,
 "nbformat_minor": 5
}
