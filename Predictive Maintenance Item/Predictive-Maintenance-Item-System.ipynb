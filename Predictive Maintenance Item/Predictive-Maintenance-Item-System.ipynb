{
 "cells": [
  {
   "metadata": {
    "ExecuteTime": {
     "end_time": "2024-11-15T08:02:44.223865Z",
     "start_time": "2024-11-15T08:02:44.200634Z"
    }
   },
   "cell_type": "code",
   "source": [
    "from multiprocessing.reduction import duplicate\n",
    "from babel.util import distinct\n",
    "from pyspark.sql import SparkSession\n",
    "from pyspark.sql.functions import col, count, isnan, when, isnull, sum as spark_sum, countDistinct\n",
    "from pyspark.sql.types import NumericType, TimestampType, DateType\n",
    "from pyspark.sql.functions import col\n",
    "from pyspark.sql.functions import col, min, max, count, lag, datediff\n",
    "from pyspark.sql.window import Window\n",
    "import pyspark.sql.functions as F"
   ],
   "id": "4d13cd148ada49e7",
   "outputs": [],
   "execution_count": 81
  },
  {
   "metadata": {
    "ExecuteTime": {
     "end_time": "2024-11-15T08:02:44.237280Z",
     "start_time": "2024-11-15T08:02:44.232757Z"
    }
   },
   "cell_type": "code",
   "source": [
    "# Initialize Spark Session\n",
    "spark = SparkSession.builder.appName(\"Predictive Maintenance System\").getOrCreate()"
   ],
   "id": "3171446ef9d990f3",
   "outputs": [],
   "execution_count": 82
  },
  {
   "metadata": {},
   "cell_type": "markdown",
   "source": "#### **Motor maintenance**",
   "id": "f2910ac0dc790dd"
  },
  {
   "metadata": {
    "ExecuteTime": {
     "end_time": "2024-11-15T08:03:03.533765Z",
     "start_time": "2024-11-15T08:02:44.243921Z"
    }
   },
   "cell_type": "code",
   "source": [
    "from pyspark.shell import spark\n",
    "from pyspark.sql import functions as F\n",
    "\n",
    "# Load data from CSV\n",
    "df = spark.read.csv(\"C:/Users/KhanhChang/PycharmProjects/Predictive-Maintenance-System-using-Apache-Spark/Maintenance Recommendation System/df_maintenance.csv\", header=True, inferSchema=True)\n",
    "\n",
    "# 1. Phương pháp 1: Tính ngưỡng dựa trên Phân phối Thống kê\n",
    "stats_df = df.select(\n",
    "    F.mean(\"vibration\").alias(\"mean_vibration\"),\n",
    "    F.stddev(\"vibration\").alias(\"std_vibration\"),\n",
    "    F.mean(\"noise_level\").alias(\"mean_noise\"),\n",
    "    F.stddev(\"noise_level\").alias(\"std_noise\"),\n",
    "    F.mean(\"temperature\").alias(\"mean_temperature\"),\n",
    "    F.stddev(\"temperature\").alias(\"std_temperature\"),\n",
    "    F.mean(\"current\").alias(\"mean_current\"),\n",
    "    F.stddev(\"current\").alias(\"std_current\"),\n",
    "    F.mean(\"power_output\").alias(\"mean_power_output\"),\n",
    "    F.stddev(\"power_output\").alias(\"std_power_output\")\n",
    ").collect()[0]\n",
    "\n",
    "# Xác định ngưỡng cho mỗi chỉ số bằng cách sử dụng 3 lần độ lệch chuẩn\n",
    "VIBRATION_THRESHOLD_STAT = stats_df['mean_vibration'] + 3 * stats_df['std_vibration']\n",
    "NOISE_THRESHOLD_STAT = stats_df['mean_noise'] + 3 * stats_df['std_noise']\n",
    "TEMPERATURE_THRESHOLD_STAT = stats_df['mean_temperature'] + 3 * stats_df['std_temperature']\n",
    "CURRENT_THRESHOLD_STAT = stats_df['mean_current'] + 3 * stats_df['std_current']\n",
    "POWER_OUTPUT_THRESHOLD_STAT = stats_df['mean_power_output'] - 3 * stats_df['std_power_output']\n",
    "\n",
    "# 2. Phương pháp 2: Tính ngưỡng dựa trên Dữ liệu Bảo Trì Lịch Sử (Motor Failure)\n",
    "failure_stats_df = df.filter(F.col(\"parts_replaced\") == \"Motor\").select(\n",
    "    F.mean(\"vibration\").alias(\"motor_failure_vibration\"),\n",
    "    F.mean(\"noise_level\").alias(\"motor_failure_noise\"),\n",
    "    F.mean(\"temperature\").alias(\"motor_failure_temperature\"),\n",
    "    F.mean(\"current\").alias(\"motor_failure_current\"),\n",
    "    F.mean(\"power_output\").alias(\"motor_failure_power_output\")\n",
    ").collect()[0]\n",
    "\n",
    "VIBRATION_THRESHOLD_HIST = failure_stats_df['motor_failure_vibration']\n",
    "NOISE_THRESHOLD_HIST = failure_stats_df['motor_failure_noise']\n",
    "TEMPERATURE_THRESHOLD_HIST = failure_stats_df['motor_failure_temperature']\n",
    "CURRENT_THRESHOLD_HIST = failure_stats_df['motor_failure_current']\n",
    "POWER_OUTPUT_THRESHOLD_HIST = failure_stats_df['motor_failure_power_output']\n",
    "\n",
    "# 3. Chọn ngưỡng cuối cùng cho mỗi chỉ số bằng cách lấy giá trị nhỏ hơn từ hai phương pháp\n",
    "VIBRATION_THRESHOLD = VIBRATION_THRESHOLD_HIST if VIBRATION_THRESHOLD_HIST < VIBRATION_THRESHOLD_STAT else VIBRATION_THRESHOLD_STAT\n",
    "NOISE_THRESHOLD = NOISE_THRESHOLD_HIST if NOISE_THRESHOLD_HIST < NOISE_THRESHOLD_STAT else NOISE_THRESHOLD_STAT\n",
    "TEMPERATURE_THRESHOLD = TEMPERATURE_THRESHOLD_HIST if TEMPERATURE_THRESHOLD_HIST < TEMPERATURE_THRESHOLD_STAT else TEMPERATURE_THRESHOLD_STAT\n",
    "CURRENT_THRESHOLD = CURRENT_THRESHOLD_HIST if CURRENT_THRESHOLD_HIST < CURRENT_THRESHOLD_STAT else CURRENT_THRESHOLD_STAT\n",
    "POWER_OUTPUT_THRESHOLD = POWER_OUTPUT_THRESHOLD_HIST if POWER_OUTPUT_THRESHOLD_HIST < POWER_OUTPUT_THRESHOLD_STAT else POWER_OUTPUT_THRESHOLD_STAT\n",
    "\n",
    "# 4. Xác định Motor Failure cho các thiết bị có `maintenance_needed == \"Maintenance required\"`\n",
    "df = df.withColumn(\n",
    "    \"maintenance_item\",\n",
    "    F.when(\n",
    "        (F.col(\"maintenance_needed\") == \"Maintenance required\") &\n",
    "        #(F.col(\"maintenance_type\").isin(\"Repair\", \"Replacement\")) &\n",
    "        (F.col(\"parts_replaced\") == \"Motor\") &\n",
    "        (\n",
    "            (F.col(\"vibration\") > VIBRATION_THRESHOLD) |\n",
    "            (F.col(\"noise_level\") > NOISE_THRESHOLD) |\n",
    "            (F.col(\"temperature\") > TEMPERATURE_THRESHOLD) |\n",
    "            (F.col(\"current\") > CURRENT_THRESHOLD) |\n",
    "            (F.col(\"power_output\") < POWER_OUTPUT_THRESHOLD)\n",
    "        ),\n",
    "        \"Motor\"  # Set 'Motor' for rows meeting the condition\n",
    "    )\n",
    ")\n",
    "\n",
    "# Display rows to confirm the new 'maintenance_item' column\n",
    "# Filter and display rows where maintenance_needed is \"Maintenance required\"\n",
    "df.filter(F.col(\"maintenance_needed\") == \"Maintenance required\") \\\n",
    "  .select('equipment_id', 'vibration', 'noise_level', 'temperature', 'current', 'power_output', 'parts_replaced', 'maintenance_type', 'maintenance_needed', 'maintenance_item') \\\n",
    "  .show()\n"
   ],
   "id": "cdcc6b836f51fd4d",
   "outputs": [
    {
     "name": "stdout",
     "output_type": "stream",
     "text": [
      "+------------+----------+-----------+-----------+----------+------------+--------------+----------------+--------------------+----------------+\n",
      "|equipment_id| vibration|noise_level|temperature|   current|power_output|parts_replaced|maintenance_type|  maintenance_needed|maintenance_item|\n",
      "+------------+----------+-----------+-----------+----------+------------+--------------+----------------+--------------------+----------------+\n",
      "|           7|0.51609147|    69.5796|  58.727806|  95.03543|    540.1849|          None|     Replacement|Maintenance required|            NULL|\n",
      "|           7|0.54974616|   71.41562|   42.89155|101.410324|   520.31616|          None|     Replacement|Maintenance required|            NULL|\n",
      "|           7|0.46776083|   75.18598|  67.534195|  93.23835|    488.6647|          None|     Replacement|Maintenance required|            NULL|\n",
      "|           7| 0.5295095|   64.15321|  49.406094|  94.45574|    501.9079|          None|     Replacement|Maintenance required|            NULL|\n",
      "|           7|0.49999964|   72.87533|   73.14067|  89.76824|   496.00214|          None|     Replacement|Maintenance required|            NULL|\n",
      "|           7| 0.5606583|  57.505062|  54.569653|   91.1885|   461.57568|          None|     Replacement|Maintenance required|            NULL|\n",
      "|           7|0.35674632|  62.675583|  60.046978|  99.21747|   436.81332|          None|     Replacement|Maintenance required|            NULL|\n",
      "|           7| 0.5426374|   73.65785|  77.183205|  97.29198|   396.81067|          None|     Replacement|Maintenance required|            NULL|\n",
      "|           7|0.32351774|   72.64443|  52.186092|  89.21177|   485.85663|          None|     Replacement|Maintenance required|            NULL|\n",
      "|           7|0.37098482|   69.62532|  61.462353| 100.65089|   485.52603|          None|     Replacement|Maintenance required|            NULL|\n",
      "|           7| 0.5095116|  73.573586|   67.47447|100.024704|   549.01575|          None|     Replacement|Maintenance required|            NULL|\n",
      "|           7|  0.691809|   71.78605|   73.21632|  78.49714|   429.33908|          None|     Replacement|Maintenance required|            NULL|\n",
      "|           7| 0.4516052|  71.503456|  56.648453|120.650955|   536.50916|          None|     Replacement|Maintenance required|            NULL|\n",
      "|           7| 0.6807829|  64.861084|   65.53581|  98.59342|   548.58673|          None|     Replacement|Maintenance required|            NULL|\n",
      "|           7|0.33856645|   76.57769|    61.3069| 104.49071|   457.51746|          None|     Replacement|Maintenance required|            NULL|\n",
      "|           7| 0.5399753|   70.21223|  41.466316|  96.27382|    508.0626|          None|     Replacement|Maintenance required|            NULL|\n",
      "|           7|0.59034747|   77.44607|   68.32727| 91.038994|    524.7226|          None|     Replacement|Maintenance required|            NULL|\n",
      "|           7| 0.5106145|  62.357048|  55.168118| 106.63836|   488.75192|          None|     Replacement|Maintenance required|            NULL|\n",
      "|           7| 0.5259103|   72.05192|  69.267296|  99.55377|   485.23566|          None|     Replacement|Maintenance required|            NULL|\n",
      "|           7| 0.5542638|   60.92818|  54.718777| 104.36402|    465.0531|          None|     Replacement|Maintenance required|            NULL|\n",
      "+------------+----------+-----------+-----------+----------+------------+--------------+----------------+--------------------+----------------+\n",
      "only showing top 20 rows\n",
      "\n"
     ]
    }
   ],
   "execution_count": 83
  },
  {
   "metadata": {},
   "cell_type": "markdown",
   "source": "#### **Bearing Maintenance**",
   "id": "636cf9fad2fccda5"
  },
  {
   "metadata": {
    "ExecuteTime": {
     "end_time": "2024-11-15T08:03:09.106521Z",
     "start_time": "2024-11-15T08:03:03.567140Z"
    }
   },
   "cell_type": "code",
   "source": [
    "from pyspark.shell import spark\n",
    "from pyspark.sql import functions as F\n",
    "\n",
    "\n",
    "# 1. Statistical Thresholds\n",
    "stats_df = df.select(\n",
    "    F.mean(\"vibration\").alias(\"mean_vibration\"),\n",
    "    F.stddev(\"vibration\").alias(\"std_vibration\"),\n",
    "    F.mean(\"noise_level\").alias(\"mean_noise\"),\n",
    "    F.stddev(\"noise_level\").alias(\"std_noise\"),\n",
    "    F.mean(\"temperature\").alias(\"mean_temperature\"),\n",
    "    F.stddev(\"temperature\").alias(\"std_temperature\"),\n",
    "    F.mean(\"rotational_speed\").alias(\"mean_rotational_speed\"),\n",
    "    F.stddev(\"rotational_speed\").alias(\"std_rotational_speed\")\n",
    ").collect()[0]\n",
    "\n",
    "VIBRATION_THRESHOLD_STAT = stats_df['mean_vibration'] + 3 * stats_df['std_vibration']\n",
    "NOISE_THRESHOLD_STAT = stats_df['mean_noise'] + 3 * stats_df['std_noise']\n",
    "TEMPERATURE_THRESHOLD_STAT = stats_df['mean_temperature'] + 3 * stats_df['std_temperature']\n",
    "ROTATIONAL_SPEED_THRESHOLD_STAT = stats_df['mean_rotational_speed'] - 3 * stats_df['std_rotational_speed']\n",
    "\n",
    "# 2. Historical Thresholds\n",
    "failure_stats_df = df.filter(F.col(\"parts_replaced\") == \"Bearings\").select(\n",
    "    F.mean(\"vibration\").alias(\"bearing_failure_vibration\"),\n",
    "    F.mean(\"noise_level\").alias(\"bearing_failure_noise\"),\n",
    "    F.mean(\"temperature\").alias(\"bearing_failure_temperature\"),\n",
    "    F.mean(\"rotational_speed\").alias(\"bearing_failure_rotational_speed\")\n",
    ").collect()[0]\n",
    "\n",
    "VIBRATION_THRESHOLD_HIST = failure_stats_df['bearing_failure_vibration']\n",
    "NOISE_THRESHOLD_HIST = failure_stats_df['bearing_failure_noise']\n",
    "TEMPERATURE_THRESHOLD_HIST = failure_stats_df['bearing_failure_temperature']\n",
    "ROTATIONAL_SPEED_THRESHOLD_HIST = failure_stats_df['bearing_failure_rotational_speed']\n",
    "\n",
    "# 3. Final Thresholds (Choose the lower of the two)\n",
    "VIBRATION_THRESHOLD = VIBRATION_THRESHOLD_HIST if VIBRATION_THRESHOLD_HIST < VIBRATION_THRESHOLD_STAT else VIBRATION_THRESHOLD_STAT\n",
    "NOISE_THRESHOLD = NOISE_THRESHOLD_HIST if NOISE_THRESHOLD_HIST < NOISE_THRESHOLD_STAT else NOISE_THRESHOLD_STAT\n",
    "TEMPERATURE_THRESHOLD = TEMPERATURE_THRESHOLD_HIST if TEMPERATURE_THRESHOLD_HIST < TEMPERATURE_THRESHOLD_STAT else TEMPERATURE_THRESHOLD_STAT\n",
    "ROTATIONAL_SPEED_THRESHOLD = ROTATIONAL_SPEED_THRESHOLD_HIST if ROTATIONAL_SPEED_THRESHOLD_HIST < ROTATIONAL_SPEED_THRESHOLD_STAT else ROTATIONAL_SPEED_THRESHOLD_STAT\n",
    "\n",
    "# 4. Add Maintenance Types for Bearing Failures\n",
    "df = df.withColumn(\n",
    "    \"maintenance_item\",\n",
    "    F.when(\n",
    "        (F.col(\"maintenance_item\").isNull()) &  \n",
    "        (F.col(\"maintenance_needed\") == \"Maintenance required\") &\n",
    "        #(F.col(\"maintenance_type\").isin(\"Repair\", \"Replacement\")) &\n",
    "        (F.col(\"parts_replaced\") == \"Bearings\") &\n",
    "        (\n",
    "            (F.col(\"vibration\") > VIBRATION_THRESHOLD) |\n",
    "            (F.col(\"noise_level\") > NOISE_THRESHOLD) |\n",
    "            (F.col(\"temperature\") > TEMPERATURE_THRESHOLD) |\n",
    "            (F.col(\"rotational_speed\") < ROTATIONAL_SPEED_THRESHOLD)\n",
    "        ),\n",
    "        \"Bearings\"  # Set 'Bearing' for matching rows\n",
    "    ).otherwise(F.col(\"maintenance_item\"))  # Retain existing values\n",
    ")\n",
    "\n",
    "# Display rows to verify\n",
    "df.filter(F.col(\"maintenance_item\") == \"Bearings\").select(\n",
    "    'equipment_id', 'maintenance_item', 'vibration', 'noise_level', 'temperature', 'rotational_speed',\n",
    "    'parts_replaced', 'maintenance_type', 'maintenance_needed'\n",
    ").show()\n"
   ],
   "id": "570266bc00e2e3fd",
   "outputs": [
    {
     "name": "stdout",
     "output_type": "stream",
     "text": [
      "+------------+----------------+----------+-----------+-----------+----------------+--------------+----------------+--------------------+\n",
      "|equipment_id|maintenance_item| vibration|noise_level|temperature|rotational_speed|parts_replaced|maintenance_type|  maintenance_needed|\n",
      "+------------+----------------+----------+-----------+-----------+----------------+--------------+----------------+--------------------+\n",
      "|           9|        Bearings| 0.6172446|    76.1919|   69.18309|       1188.6361|      Bearings|         Routine|Maintenance required|\n",
      "|           9|        Bearings|0.52105445|    76.4475|   66.20828|       1122.9075|      Bearings|         Routine|Maintenance required|\n",
      "|           9|        Bearings|0.56467915|   69.04776|  56.377506|       1144.0042|      Bearings|         Routine|Maintenance required|\n",
      "|           9|        Bearings|0.48348257|   68.95828|   64.30161|       1135.6228|      Bearings|         Routine|Maintenance required|\n",
      "|           9|        Bearings|0.45152876|  63.730156|  64.679276|       1059.4576|      Bearings|         Routine|Maintenance required|\n",
      "|           9|        Bearings|0.40307286|   74.38547|   80.49148|       964.36774|      Bearings|         Routine|Maintenance required|\n",
      "|           9|        Bearings|0.43956602|   79.53485|  71.555565|       1113.5706|      Bearings|         Routine|Maintenance required|\n",
      "|           9|        Bearings|0.42377296|   68.63057|   76.15798|        1222.238|      Bearings|         Routine|Maintenance required|\n",
      "|           9|        Bearings|0.24922858|  70.054825|  56.561897|       1246.2374|      Bearings|         Routine|Maintenance required|\n",
      "|           9|        Bearings| 0.5640311|   66.52056|  47.418957|       1227.8972|      Bearings|         Routine|Maintenance required|\n",
      "|           9|        Bearings|0.44081256|   66.44763|  76.827065|       1129.1996|      Bearings|         Routine|Maintenance required|\n",
      "|           9|        Bearings| 0.5382771|   74.83903|   67.58651|       1037.5953|      Bearings|         Routine|Maintenance required|\n",
      "|           9|        Bearings|0.37178236|   70.26501|   56.49223|       1052.1825|      Bearings|         Routine|Maintenance required|\n",
      "|           9|        Bearings| 0.5196582|  57.306416|  45.388428|       1151.1486|      Bearings|         Routine|Maintenance required|\n",
      "|           9|        Bearings|0.42219523|  70.374565|   72.23316|       983.97845|      Bearings|         Routine|Maintenance required|\n",
      "|           9|        Bearings|0.32416537|    74.4076|  37.491684|       1146.5414|      Bearings|         Routine|Maintenance required|\n",
      "|           9|        Bearings| 0.6143391|  74.507164|   58.17878|       1119.8636|      Bearings|         Routine|Maintenance required|\n",
      "|           9|        Bearings| 0.5839218|    64.4095|   54.59453|       1123.1605|      Bearings|         Routine|Maintenance required|\n",
      "|           9|        Bearings| 0.7401277|   80.01473|  50.865692|       1158.1415|      Bearings|         Routine|Maintenance required|\n",
      "|           9|        Bearings|0.37176573|   74.65837|   74.42701|        1123.549|      Bearings|         Routine|Maintenance required|\n",
      "+------------+----------------+----------+-----------+-----------+----------------+--------------+----------------+--------------------+\n",
      "only showing top 20 rows\n",
      "\n"
     ]
    }
   ],
   "execution_count": 84
  },
  {
   "metadata": {},
   "cell_type": "markdown",
   "source": "#### **Seals Maintenance**",
   "id": "1eb292ab66c03131"
  },
  {
   "metadata": {
    "ExecuteTime": {
     "end_time": "2024-11-15T08:03:14.158277Z",
     "start_time": "2024-11-15T08:03:09.130711Z"
    }
   },
   "cell_type": "code",
   "source": [
    "from pyspark.shell import spark\n",
    "from pyspark.sql import functions as F\n",
    "\n",
    "# 1. Statistical Thresholds\n",
    "stats_df = df.select(\n",
    "    F.mean(\"pressure\").alias(\"mean_pressure\"),\n",
    "    F.stddev(\"pressure\").alias(\"std_pressure\"),\n",
    "    F.mean(\"oil_viscosity\").alias(\"mean_oil_viscosity\"),\n",
    "    F.stddev(\"oil_viscosity\").alias(\"std_oil_viscosity\"),\n",
    "    F.mean(\"temperature\").alias(\"mean_temperature\"),\n",
    "    F.stddev(\"temperature\").alias(\"std_temperature\")\n",
    ").collect()[0]\n",
    "\n",
    "PRESSURE_THRESHOLD_STAT = stats_df['mean_pressure'] - 3 * stats_df['std_pressure']\n",
    "OIL_VISCOSITY_THRESHOLD_STAT = stats_df['mean_oil_viscosity'] - 3 * stats_df['std_oil_viscosity']\n",
    "TEMPERATURE_THRESHOLD_STAT = stats_df['mean_temperature'] + 3 * stats_df['std_temperature']\n",
    "\n",
    "# 2. Historical Thresholds\n",
    "failure_stats_df = df.filter(F.col(\"parts_replaced\") == \"Seals\").select(\n",
    "    F.mean(\"pressure\").alias(\"seal_failure_pressure\"),\n",
    "    F.mean(\"oil_viscosity\").alias(\"seal_failure_oil_viscosity\"),\n",
    "    F.mean(\"temperature\").alias(\"seal_failure_temperature\")\n",
    ").collect()[0]\n",
    "\n",
    "PRESSURE_THRESHOLD_HIST = failure_stats_df['seal_failure_pressure']\n",
    "OIL_VISCOSITY_THRESHOLD_HIST = failure_stats_df['seal_failure_oil_viscosity']\n",
    "TEMPERATURE_THRESHOLD_HIST = failure_stats_df['seal_failure_temperature']\n",
    "\n",
    "# 3. Final Thresholds\n",
    "PRESSURE_THRESHOLD = PRESSURE_THRESHOLD_HIST if PRESSURE_THRESHOLD_HIST < PRESSURE_THRESHOLD_STAT else PRESSURE_THRESHOLD_STAT\n",
    "OIL_VISCOSITY_THRESHOLD = OIL_VISCOSITY_THRESHOLD_HIST if OIL_VISCOSITY_THRESHOLD_HIST < OIL_VISCOSITY_THRESHOLD_STAT else OIL_VISCOSITY_THRESHOLD_STAT\n",
    "TEMPERATURE_THRESHOLD = TEMPERATURE_THRESHOLD_HIST if TEMPERATURE_THRESHOLD_HIST < TEMPERATURE_THRESHOLD_STAT else TEMPERATURE_THRESHOLD_STAT\n",
    "\n",
    "# 4. Add Maintenance Types for Seal Failures\n",
    "df = df.withColumn(\n",
    "    \"maintenance_item\",\n",
    "    F.when(\n",
    "        (F.col(\"maintenance_item\").isNull()) & \n",
    "        (F.col(\"maintenance_needed\") == \"Maintenance required\") &\n",
    "        #(F.col(\"maintenance_type\").isin(\"Repair\", \"Replacement\")) &\n",
    "        (F.col(\"parts_replaced\") == \"Seals\") &\n",
    "        (\n",
    "            (F.col(\"pressure\") < PRESSURE_THRESHOLD) |\n",
    "            (F.col(\"oil_viscosity\") < OIL_VISCOSITY_THRESHOLD) |\n",
    "            (F.col(\"temperature\") > TEMPERATURE_THRESHOLD)\n",
    "        ),\n",
    "        \"Seals\"  # Set 'Seal' for matching rows\n",
    "    ).otherwise(F.col(\"maintenance_item\"))  # Retain existing values\n",
    ")\n",
    "\n",
    "# Display rows to verify\n",
    "df.filter(F.col(\"maintenance_item\") == \"Seals\").select(\n",
    "    'equipment_id', 'maintenance_item', 'pressure', 'oil_viscosity', 'temperature',\n",
    "    'parts_replaced', 'maintenance_type', 'maintenance_needed'\n",
    ").show()"
   ],
   "id": "5c4693dcfd53c322",
   "outputs": [
    {
     "name": "stdout",
     "output_type": "stream",
     "text": [
      "+------------+----------------+----------+-------------+-----------+--------------+----------------+--------------------+\n",
      "|equipment_id|maintenance_item|  pressure|oil_viscosity|temperature|parts_replaced|maintenance_type|  maintenance_needed|\n",
      "+------------+----------------+----------+-------------+-----------+--------------+----------------+--------------------+\n",
      "|          14|           Seals|  99.62995|    50.189896|  75.265144|         Seals|          Repair|Maintenance required|\n",
      "|          14|           Seals|  96.99443|    56.372288|   83.00572|         Seals|          Repair|Maintenance required|\n",
      "|          14|           Seals|  71.99615|    51.641594|    74.3573|         Seals|          Repair|Maintenance required|\n",
      "|          14|           Seals| 126.75134|    52.163834|   75.87618|         Seals|          Repair|Maintenance required|\n",
      "|          14|           Seals| 101.08404|     52.36618|    74.0869|         Seals|          Repair|Maintenance required|\n",
      "|          14|           Seals| 133.74142|     46.41826|   73.38592|         Seals|          Repair|Maintenance required|\n",
      "|          14|           Seals|  87.47473|    49.090073|  83.228195|         Seals|          Repair|Maintenance required|\n",
      "|          14|           Seals|  84.73686|     51.41501|  67.274345|         Seals|          Repair|Maintenance required|\n",
      "|          14|           Seals| 89.871414|    49.768322|  82.114395|         Seals|          Repair|Maintenance required|\n",
      "|          14|           Seals|105.193016|    43.054977|  80.026344|         Seals|          Repair|Maintenance required|\n",
      "|          14|           Seals| 106.18318|    50.421337|   77.58081|         Seals|          Repair|Maintenance required|\n",
      "|          14|           Seals|  87.38558|     43.52674|    79.1354|         Seals|          Repair|Maintenance required|\n",
      "|          14|           Seals| 136.16469|     60.28793|  75.895584|         Seals|          Repair|Maintenance required|\n",
      "|          14|           Seals|  89.02493|     52.19276|   83.63458|         Seals|          Repair|Maintenance required|\n",
      "|          14|           Seals|  76.87349|    49.865715|   74.82154|         Seals|          Repair|Maintenance required|\n",
      "|          14|           Seals|  86.71459|    46.208454|   75.60263|         Seals|          Repair|Maintenance required|\n",
      "|          14|           Seals| 131.06506|    48.702324|   75.00467|         Seals|          Repair|Maintenance required|\n",
      "|          14|           Seals|  81.50087|    49.350647|   73.78367|         Seals|          Repair|Maintenance required|\n",
      "|          14|           Seals| 132.16006|    55.329247|   82.37247|         Seals|          Repair|Maintenance required|\n",
      "|          14|           Seals|115.714325|    54.416256|   78.23116|         Seals|          Repair|Maintenance required|\n",
      "+------------+----------------+----------+-------------+-----------+--------------+----------------+--------------------+\n",
      "only showing top 20 rows\n",
      "\n"
     ]
    }
   ],
   "execution_count": 85
  },
  {
   "metadata": {},
   "cell_type": "markdown",
   "source": "#### **Filters Maintenance**",
   "id": "dc018c1a85d10635"
  },
  {
   "metadata": {
    "ExecuteTime": {
     "end_time": "2024-11-15T08:03:19.306643Z",
     "start_time": "2024-11-15T08:03:14.193434Z"
    }
   },
   "cell_type": "code",
   "source": [
    "from pyspark.shell import spark\n",
    "from pyspark.sql import functions as F\n",
    "\n",
    "# 1. Statistical Thresholds\n",
    "stats_df = df.select(\n",
    "    F.mean(\"pressure\").alias(\"mean_pressure\"),\n",
    "    F.stddev(\"pressure\").alias(\"std_pressure\"),\n",
    "    F.mean(\"oil_viscosity\").alias(\"mean_oil_viscosity\"),\n",
    "    F.stddev(\"oil_viscosity\").alias(\"std_oil_viscosity\"),\n",
    "    F.mean(\"temperature\").alias(\"mean_temperature\"),\n",
    "    F.stddev(\"temperature\").alias(\"std_temperature\")\n",
    ").collect()[0]\n",
    "\n",
    "PRESSURE_THRESHOLD_STAT = stats_df['mean_pressure'] - 3 * stats_df['std_pressure']\n",
    "OIL_VISCOSITY_THRESHOLD_STAT = stats_df['mean_oil_viscosity'] - 3 * stats_df['std_oil_viscosity']\n",
    "TEMPERATURE_THRESHOLD_STAT = stats_df['mean_temperature'] + 3 * stats_df['std_temperature']\n",
    "\n",
    "# 2. Historical Thresholds\n",
    "failure_stats_df = df.filter(F.col(\"parts_replaced\") == \"Seals\").select(\n",
    "    F.mean(\"pressure\").alias(\"seal_failure_pressure\"),\n",
    "    F.mean(\"oil_viscosity\").alias(\"seal_failure_oil_viscosity\"),\n",
    "    F.mean(\"temperature\").alias(\"seal_failure_temperature\")\n",
    ").collect()[0]\n",
    "\n",
    "PRESSURE_THRESHOLD_HIST = failure_stats_df['seal_failure_pressure']\n",
    "OIL_VISCOSITY_THRESHOLD_HIST = failure_stats_df['seal_failure_oil_viscosity']\n",
    "TEMPERATURE_THRESHOLD_HIST = failure_stats_df['seal_failure_temperature']\n",
    "\n",
    "# 3. Final Thresholds\n",
    "PRESSURE_THRESHOLD = PRESSURE_THRESHOLD_HIST if PRESSURE_THRESHOLD_HIST < PRESSURE_THRESHOLD_STAT else PRESSURE_THRESHOLD_STAT\n",
    "OIL_VISCOSITY_THRESHOLD = OIL_VISCOSITY_THRESHOLD_HIST if OIL_VISCOSITY_THRESHOLD_HIST < OIL_VISCOSITY_THRESHOLD_STAT else OIL_VISCOSITY_THRESHOLD_STAT\n",
    "TEMPERATURE_THRESHOLD = TEMPERATURE_THRESHOLD_HIST if TEMPERATURE_THRESHOLD_HIST < TEMPERATURE_THRESHOLD_STAT else TEMPERATURE_THRESHOLD_STAT\n",
    "\n",
    "# 4. Add Maintenance Types for Seal Failures\n",
    "df = df.withColumn(\n",
    "    \"maintenance_item\",\n",
    "    F.when(\n",
    "        (F.col(\"maintenance_item\").isNull()) & \n",
    "        (F.col(\"maintenance_needed\") == \"Maintenance required\") &\n",
    "        #(F.col(\"maintenance_type\").isin(\"Repair\", \"Replacement\")) &\n",
    "        (F.col(\"parts_replaced\") == \"Filters\") &\n",
    "        (\n",
    "            (F.col(\"pressure\") < PRESSURE_THRESHOLD) |\n",
    "            (F.col(\"oil_viscosity\") < OIL_VISCOSITY_THRESHOLD) |\n",
    "            (F.col(\"temperature\") > TEMPERATURE_THRESHOLD)\n",
    "        ),\n",
    "        \"Filters\"  # Set 'Filters' for matching rows\n",
    "    ).otherwise(F.col(\"maintenance_item\"))  # Retain existing values\n",
    ")\n",
    "\n",
    "# Display rows to verify\n",
    "df.filter(F.col(\"maintenance_item\") == \"Filters\").select(\n",
    "    'equipment_id', 'maintenance_item', 'pressure', 'oil_viscosity', 'temperature',\n",
    "    'parts_replaced', 'maintenance_type', 'maintenance_needed'\n",
    ").show()"
   ],
   "id": "5e489abbc33840a5",
   "outputs": [
    {
     "name": "stdout",
     "output_type": "stream",
     "text": [
      "+------------+----------------+----------+-------------+-----------+--------------+----------------+--------------------+\n",
      "|equipment_id|maintenance_item|  pressure|oil_viscosity|temperature|parts_replaced|maintenance_type|  maintenance_needed|\n",
      "+------------+----------------+----------+-------------+-----------+--------------+----------------+--------------------+\n",
      "|          51|         Filters| 125.24291|     56.16894|  78.490814|       Filters|          Repair|Maintenance required|\n",
      "|          51|         Filters| 126.68527|     45.31755|   72.34348|       Filters|          Repair|Maintenance required|\n",
      "|          51|         Filters| 139.52592|     57.66559|   79.29988|       Filters|          Repair|Maintenance required|\n",
      "|          51|         Filters| 100.21501|     48.95903|  67.453514|       Filters|          Repair|Maintenance required|\n",
      "|          51|         Filters|101.326904|     43.48537|   69.47191|       Filters|          Repair|Maintenance required|\n",
      "|          51|         Filters|109.489845|     58.60073|   68.84092|       Filters|          Repair|Maintenance required|\n",
      "|          51|         Filters| 98.084435|     46.95337|  84.787865|       Filters|          Repair|Maintenance required|\n",
      "|          51|         Filters|  105.4201|    48.652264|  72.166695|       Filters|          Repair|Maintenance required|\n",
      "|          51|         Filters|  90.71946|     50.64069|  68.116234|       Filters|          Repair|Maintenance required|\n",
      "|          51|         Filters|  57.02426|    50.943703|   77.62955|       Filters|          Repair|Maintenance required|\n",
      "|          51|         Filters|  89.56434|    54.170902|   79.09806|       Filters|          Repair|Maintenance required|\n",
      "|          51|         Filters| 101.44048|    58.054337|  67.923386|       Filters|          Repair|Maintenance required|\n",
      "|          51|         Filters| 115.45908|       57.419|   80.69134|       Filters|          Repair|Maintenance required|\n",
      "|          51|         Filters|  109.3249|    42.229374|   69.76673|       Filters|          Repair|Maintenance required|\n",
      "|          51|         Filters| 88.102715|    53.468037|   69.90654|       Filters|          Repair|Maintenance required|\n",
      "|          51|         Filters| 102.76123|    49.975826|   70.33776|       Filters|          Repair|Maintenance required|\n",
      "|          51|         Filters|115.209625|    61.584454|   80.99388|       Filters|          Repair|Maintenance required|\n",
      "|          51|         Filters|  97.93712|    53.509502|   71.36147|       Filters|          Repair|Maintenance required|\n",
      "|          51|         Filters| 130.14204|     49.21601|   74.81438|       Filters|          Repair|Maintenance required|\n",
      "|          51|         Filters|  96.65264|    51.025757|   77.78536|       Filters|          Repair|Maintenance required|\n",
      "+------------+----------------+----------+-------------+-----------+--------------+----------------+--------------------+\n",
      "only showing top 20 rows\n",
      "\n"
     ]
    }
   ],
   "execution_count": 86
  },
  {
   "metadata": {},
   "cell_type": "markdown",
   "source": "#### **Coupling**",
   "id": "4316093086e23d90"
  },
  {
   "metadata": {
    "ExecuteTime": {
     "end_time": "2024-11-15T08:03:19.344188Z",
     "start_time": "2024-11-15T08:03:19.326952Z"
    }
   },
   "cell_type": "code",
   "source": [
    "from pyspark.sql import SparkSession\n",
    "from pyspark.sql import functions as F\n",
    "\n",
    "# Assuming df is already loaded and contains the 'maintenance_item' column\n",
    "\n",
    "# Update only the rows where maintenance_item is null and maintenance_needed == \"Maintenance required\"\n",
    "df = df.withColumn(\n",
    "    \"maintenance_item\",\n",
    "    F.when(\n",
    "        (F.col(\"maintenance_item\").isNull()) & \n",
    "        (F.col(\"maintenance_needed\") == \"Maintenance required\"),\n",
    "        \"Coupling\"\n",
    "    ).otherwise(F.col(\"maintenance_item\"))  # Retain existing values\n",
    ")"
   ],
   "id": "8927a5c290142310",
   "outputs": [],
   "execution_count": 87
  },
  {
   "metadata": {},
   "cell_type": "markdown",
   "source": "#### **Final Result Summary**",
   "id": "7d3ec2febb4fb9f8"
  },
  {
   "metadata": {
    "ExecuteTime": {
     "end_time": "2024-11-15T08:03:24.668254Z",
     "start_time": "2024-11-15T08:03:19.401276Z"
    }
   },
   "cell_type": "code",
   "source": [
    "# Calculate the total count of rows\n",
    "total_count = df.filter(F.col(\"maintenance_needed\") == \"Maintenance required\").count()\n",
    "\n",
    "# Calculate the count and percentage for each maintenance type\n",
    "maintenance_type_percentage = (\n",
    "    df.filter(F.col(\"maintenance_needed\") == \"Maintenance required\")\n",
    "    .groupBy(\"maintenance_item\")\n",
    "    .agg(F.count(\"*\").alias(\"count\"))\n",
    "    .withColumn(\"percentage\", (F.col(\"count\") / total_count) * 100)\n",
    ")\n",
    "\n",
    "# Show the results\n",
    "maintenance_type_percentage.show()"
   ],
   "id": "a10cab9e4d4d9ce2",
   "outputs": [
    {
     "name": "stdout",
     "output_type": "stream",
     "text": [
      "+----------------+------+------------------+\n",
      "|maintenance_item| count|        percentage|\n",
      "+----------------+------+------------------+\n",
      "|           Motor| 56384| 7.816585290113649|\n",
      "|           Seals| 44842| 6.216503220404304|\n",
      "|        Bearings| 72148| 10.00196856397417|\n",
      "|        Coupling|512324| 71.02412461287219|\n",
      "|         Filters| 35640|4.9408183126356855|\n",
      "+----------------+------+------------------+\n",
      "\n"
     ]
    }
   ],
   "execution_count": 88
  },
  {
   "metadata": {
    "ExecuteTime": {
     "end_time": "2024-11-15T08:04:30.564836Z",
     "start_time": "2024-11-15T08:03:24.680999Z"
    }
   },
   "cell_type": "code",
   "source": [
    "# Filter the dataset for rows where maintenance_needed == \"Maintenance required\"\n",
    "filtered_df = df.filter(F.col(\"maintenance_needed\") == \"Maintenance required\")\n",
    "\n",
    "# Save the filtered dataset to a new CSV file\n",
    "output_path = \"C:/Users/KhanhChang/PycharmProjects/Predictive-Maintenance-System-using-Apache-Spark/Maintenance Recommendation System/dataset_with_maintenance_item.csv\"\n",
    "\n",
    "# Save the filtered dataset locally with overwrite mode\n",
    "filtered_df.coalesce(1).write.option(\"header\", True).csv(output_path, mode=\"overwrite\")\n",
    "\n",
    "print(f\"Filtered dataset saved successfully to the current working directory as {output_path}\")\n"
   ],
   "id": "ecec85d034421e4a",
   "outputs": [
    {
     "name": "stdout",
     "output_type": "stream",
     "text": [
      "Filtered dataset saved successfully to the current working directory as C:/Users/KhanhChang/PycharmProjects/Predictive-Maintenance-System-using-Apache-Spark/Maintenance Recommendation System/dataset_with_maintenance_item.csv\n"
     ]
    }
   ],
   "execution_count": 89
  },
  {
   "metadata": {
    "ExecuteTime": {
     "end_time": "2024-11-15T08:04:35.831002Z",
     "start_time": "2024-11-15T08:04:30.635432Z"
    }
   },
   "cell_type": "code",
   "source": [
    "# Count rows where maintenance_item is null in the filtered dataset\n",
    "null_count = filtered_df.filter(F.col(\"maintenance_item\").isNull()).count()\n",
    "\n",
    "print(f\"Number of null values in 'maintenance_item' column: {null_count}\")\n"
   ],
   "id": "e1d3117d80343b6f",
   "outputs": [
    {
     "name": "stdout",
     "output_type": "stream",
     "text": [
      "Number of null values in 'maintenance_item' column: 0\n"
     ]
    }
   ],
   "execution_count": 90
  }
 ],
 "metadata": {
  "kernelspec": {
   "display_name": "Python 3",
   "language": "python",
   "name": "python3"
  },
  "language_info": {
   "codemirror_mode": {
    "name": "ipython",
    "version": 2
   },
   "file_extension": ".py",
   "mimetype": "text/x-python",
   "name": "python",
   "nbconvert_exporter": "python",
   "pygments_lexer": "ipython2",
   "version": "2.7.6"
  }
 },
 "nbformat": 4,
 "nbformat_minor": 5
}
