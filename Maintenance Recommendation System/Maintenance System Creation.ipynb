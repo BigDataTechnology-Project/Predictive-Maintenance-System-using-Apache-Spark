{
 "cells": [
  {
   "cell_type": "code",
   "id": "initial_id",
   "metadata": {
    "collapsed": true,
    "ExecuteTime": {
     "end_time": "2024-11-13T06:04:46.219954Z",
     "start_time": "2024-11-13T06:04:46.214039Z"
    }
   },
   "source": [
    "import pyspark\n",
    "from pyspark.sql.functions import when, col\n",
    "from pyspark.sql.types import StructType, StructField, IntegerType, DoubleType, StringType, TimestampType\n",
    "from pyspark.sql import SparkSession\n",
    "from pyspark.sql import functions as F"
   ],
   "outputs": [],
   "execution_count": 83
  },
  {
   "metadata": {
    "ExecuteTime": {
     "end_time": "2024-11-13T06:04:46.234295Z",
     "start_time": "2024-11-13T06:04:46.229900Z"
    }
   },
   "cell_type": "code",
   "source": "spark=SparkSession.builder.appName('Practise').getOrCreate()",
   "id": "c666b4f08b1284c0",
   "outputs": [],
   "execution_count": 84
  },
  {
   "metadata": {
    "ExecuteTime": {
     "end_time": "2024-11-13T06:05:01.465488Z",
     "start_time": "2024-11-13T06:04:46.242276Z"
    }
   },
   "cell_type": "code",
   "source": [
    "df = spark.read.csv(\"C:/Users/KhanhChang/PycharmProjects/Predictive-Maintenance-System-using-Apache-Spark/Predictive-Maintenance-System-using-Apache-Spark/data_with_alerts/data_with_alert.csv\",header=True, inferSchema = True)\n",
    "df.show(5, truncate=False)"
   ],
   "id": "c0df387bf8592fbb",
   "outputs": [
    {
     "name": "stdout",
     "output_type": "stream",
     "text": [
      "+------------+-----------------------+-----------+----------+---------+----------------+------------+-----------+---------+----------+-------------+----------+-------------+-----------------------+---------------+------------+--------------------+-----------------------+---------------------+-----------------------+---------+-----------+----------------+-----------------------------+-------------+--------------+---------+--------------+------------------+-----------------------+---------------+---------------+--------------+-----------+------------+--------------------+-------------------+----------------+-----------------------+----------------------+------------------+-------------------+------------------+-------------------+-----------------+---------------------------+--------------------------+-------------+-------------------+------------------------+--------------------------+--------------------+----------------------------+----------------------+-----------------+--------------+----------------------+------------------+-----------------+-------------+-------------+-------------------+-------+\n",
      "|equipment_id|timestamp              |temperature|vibration |pressure |rotational_speed|power_output|noise_level|voltage  |current   |oil_viscosity|model     |manufacturer |installation_date      |max_temperature|max_pressure|max_rotational_speed|expected_lifetime_years|warranty_period_years|last_major_overhaul    |location |criticality|maintenance_type|description                  |technician_id|duration_hours|cost     |parts_replaced|maintenance_result|maintenance_date       |production_rate|operating_hours|downtime_hours|operator_id|product_type|raw_material_quality|ambient_temperature|ambient_humidity|operation_date         |days_since_maintenance|equipment_age_days|days_since_overhaul|temp_pct_of_max   |pressure_pct_of_max|speed_pct_of_max |cumulative_maintenance_cost|cumulative_operating_hours|estimated_rul|criticality_encoded|maintenance_type_encoded|maintenance_result_encoded|product_type_encoded|raw_material_quality_encoded|parts_replaced_encoded|temperature_alert|pressure_alert|rotational_speed_alert|power_output_alert|noise_level_alert|voltage_alert|current_alert|oil_viscosity_alert|alert  |\n",
      "+------------+-----------------------+-----------+----------+---------+----------------+------------+-----------+---------+----------+-------------+----------+-------------+-----------------------+---------------+------------+--------------------+-----------------------+---------------------+-----------------------+---------+-----------+----------------+-----------------------------+-------------+--------------+---------+--------------+------------------+-----------------------+---------------+---------------+--------------+-----------+------------+--------------------+-------------------+----------------+-----------------------+----------------------+------------------+-------------------+------------------+-------------------+-----------------+---------------------------+--------------------------+-------------+-------------------+------------------------+--------------------------+--------------------+----------------------------+----------------------+-----------------+--------------+----------------------+------------------+-----------------+-------------+-------------+-------------------+-------+\n",
      "|1           |2021-10-10 13:33:50.434|63.102325  |0.583735  |111.57932|978.9937        |579.5041    |72.580185  |217.1716 |116.37518 |42.70299     |Model-1951|ManufacturerC|2020-05-25 13:34:50.794|83.86452       |187.45992   |1243.6407           |11.8686285             |3                    |2025-04-03 13:34:50.794|Section-4|Medium     |Routine         |Routine maintenance performed|22           |6.964117      |1218.1901|None          |Successful        |2024-08-12 13:34:49.282|94.49336       |20.01369       |0.58859503    |89         |TypeA       |High                |22.501215          |32.179783       |2021-10-10 13:34:50.843|1037                  |503               |1271               |75.2431719635431  |59.52169402398123  |78.71997917083287|1218.1901                  |20.01369                  |3829.0494025 |0.0                |2.0                     |0.0                       |0.0                 |0.0                         |0.0                   |Normal           |Normal        |Normal                |Normal            |Normal           |Normal       |Normal       |Normal             |Normal |\n",
      "|1           |2021-10-10 19:33:50.434|66.560684  |0.5780538 |58.56234 |1109.8779       |485.0838    |76.433655  |236.80861|94.50009  |54.63073     |Model-1951|ManufacturerC|2020-05-25 13:34:50.794|83.86452       |187.45992   |1243.6407           |11.8686285             |3                    |2025-04-03 13:34:50.794|Section-4|Medium     |Routine         |Routine maintenance performed|22           |6.964117      |1218.1901|None          |Successful        |2024-08-12 13:34:49.282|94.49336       |20.01369       |0.58859503    |89         |TypeA       |High                |22.501215          |32.179783       |2021-10-10 13:34:50.843|1037                  |503               |1271               |79.36691702283635 |31.239925846548957 |89.24425680182388|2436.3802                  |40.02738                  |3829.0494025 |0.0                |2.0                     |0.0                       |0.0                 |0.0                         |0.0                   |Normal           |Normal        |Warning               |Normal            |Normal           |Normal       |Normal       |Normal             |Warning|\n",
      "|1           |2021-10-11 01:33:50.434|47.79757   |0.48461118|56.58919 |1046.2716       |547.77606   |61.318645  |224.70499|91.184074 |53.11147     |Model-1951|ManufacturerC|2020-05-25 13:34:50.794|83.86452       |187.45992   |1243.6407           |11.8686285             |3                    |2025-04-03 13:34:50.794|Section-4|Medium     |Routine         |Routine maintenance performed|22           |6.964117      |1218.1901|None          |Successful        |2024-08-12 13:34:49.282|91.30134       |20.773722      |1.3544766     |57         |TypeC       |High                |28.017666          |32.21979        |2021-10-11 13:34:50.843|1036                  |504               |1270               |56.993791891970524|30.18735418216331  |84.12973296869426|3654.5703000000003         |60.801102                 |3828.0494025 |0.0                |2.0                     |0.0                       |1.0                 |0.0                         |0.0                   |Normal           |Normal        |Warning               |Normal            |Normal           |Normal       |Normal       |Normal             |Warning|\n",
      "|1           |2021-10-11 07:33:50.434|53.125355  |0.46519247|114.01153|746.84045       |576.1142    |74.14918   |214.704  |111.522675|52.68492     |Model-1951|ManufacturerC|2020-05-25 13:34:50.794|83.86452       |187.45992   |1243.6407           |11.8686285             |3                    |2025-04-03 13:34:50.794|Section-4|Medium     |Routine         |Routine maintenance performed|22           |6.964117      |1218.1901|None          |Successful        |2024-08-12 13:34:49.282|91.30134       |20.773722      |1.3544766     |57         |TypeC       |High                |28.017666          |32.21979        |2021-10-11 13:34:50.843|1036                  |504               |1270               |63.34663931779494 |60.81915003484477  |60.05275076635881|4872.7604                  |81.574824                 |3828.0494025 |0.0                |2.0                     |0.0                       |1.0                 |0.0                         |0.0                   |Normal           |Normal        |Normal                |Normal            |Normal           |Normal       |Normal       |Normal             |Normal |\n",
      "|1           |2021-10-11 13:33:50.434|53.964127  |0.49352926|98.2447  |1109.0782       |524.4226    |67.25192   |219.81172|112.519264|50.9315      |Model-1951|ManufacturerC|2020-05-25 13:34:50.794|83.86452       |187.45992   |1243.6407           |11.8686285             |3                    |2025-04-03 13:34:50.794|Section-4|Medium     |Routine         |Routine maintenance performed|22           |6.964117      |1218.1901|None          |Successful        |2024-08-12 13:34:49.282|91.30134       |20.773722      |1.3544766     |57         |TypeC       |High                |28.017666          |32.21979        |2021-10-11 13:34:50.843|1036                  |504               |1270               |64.34679051403383 |52.40837614781868  |89.17995366346567|6090.9505                  |102.348546                |3828.0494025 |0.0                |2.0                     |0.0                       |1.0                 |0.0                         |0.0                   |Normal           |Normal        |Warning               |Normal            |Normal           |Normal       |Normal       |Normal             |Warning|\n",
      "+------------+-----------------------+-----------+----------+---------+----------------+------------+-----------+---------+----------+-------------+----------+-------------+-----------------------+---------------+------------+--------------------+-----------------------+---------------------+-----------------------+---------+-----------+----------------+-----------------------------+-------------+--------------+---------+--------------+------------------+-----------------------+---------------+---------------+--------------+-----------+------------+--------------------+-------------------+----------------+-----------------------+----------------------+------------------+-------------------+------------------+-------------------+-----------------+---------------------------+--------------------------+-------------+-------------------+------------------------+--------------------------+--------------------+----------------------------+----------------------+-----------------+--------------+----------------------+------------------+-----------------+-------------+-------------+-------------------+-------+\n",
      "only showing top 5 rows\n",
      "\n"
     ]
    }
   ],
   "execution_count": 85
  },
  {
   "metadata": {},
   "cell_type": "markdown",
   "source": "#### **CONDITION PERFORMANCE**",
   "id": "93b5304d0d77a56a"
  },
  {
   "metadata": {
    "ExecuteTime": {
     "end_time": "2024-11-13T06:05:01.543821Z",
     "start_time": "2024-11-13T06:05:01.476976Z"
    }
   },
   "cell_type": "code",
   "source": [
    "# 1 Alert Condition Score \n",
    "df = df.withColumn(\"alert_score\",\n",
    "    when(col(\"alert\") == \"Normal\", 0)\n",
    "    .when(col(\"alert\") == \"Warning\", 30)\n",
    "    .when(col(\"alert\") == \"Danger\", 50)\n",
    ")\n",
    "\n",
    "# 1. Age Condition Score\n",
    "df = df.withColumn(\n",
    "    \"age_condition_score\",\n",
    "    when(col(\"equipment_age_days\") / (col(\"expected_lifetime_years\") * 365) >= 0.65, 10).otherwise(0)\n",
    ")\n",
    "\n",
    "# 2. Downtime Condition Score\n",
    "df = df.withColumn(\n",
    "    \"downtime_condition_score\",\n",
    "    when((col(\"downtime_hours\") / (col(\"operating_hours\") + col(\"downtime_hours\"))) > 0.05, 10).otherwise(0)\n",
    ")\n",
    "\n",
    "# 3. Maintenance Condition Score (increased threshold to 60%)\n",
    "df = df.withColumn(\n",
    "    \"maintenance_condition_score\",\n",
    "    when((col(\"days_since_maintenance\") / (col(\"warranty_period_years\") * 365)) > 0.5, 10).otherwise(0)\n",
    ")\n",
    "\n",
    "# 4. Environment Condition Score (increased thresholds for extreme conditions)\n",
    "df = df.withColumn(\n",
    "    \"environment_condition_score\",\n",
    "    when((col(\"ambient_temperature\") > 40) | (col(\"ambient_humidity\") > 60), 10).otherwise(0)\n",
    ")"
   ],
   "id": "7748ad2a4fee60d5",
   "outputs": [],
   "execution_count": 86
  },
  {
   "metadata": {
    "ExecuteTime": {
     "end_time": "2024-11-13T06:05:01.774292Z",
     "start_time": "2024-11-13T06:05:01.616694Z"
    }
   },
   "cell_type": "code",
   "source": [
    "# 5. Điều kiện chi phí bảo trì\n",
    "\n",
    "initial_columns = df.columns\n",
    "\n",
    "if \"criticality_avg_annual_cost\" in df.columns:\n",
    "    filtered_output2 = df.drop(\"criticality_avg_annual_cost\")\n",
    "\n",
    "# Tính chi phí bảo trì trung bình hàng năm theo mức độ quan trọng của thiết bị\n",
    "maintenance_avg_by_criticality = df.groupBy(\"criticality\").agg(\n",
    "    (F.avg(F.col(\"cumulative_maintenance_cost\") / F.col(\"warranty_period_years\"))).alias(\"criticality_avg_annual_cost\")\n",
    ")\n",
    "\n",
    "df = df.join(\n",
    "    maintenance_avg_by_criticality,\n",
    "    on=\"criticality\",\n",
    "    how=\"left\" \n",
    ")\n",
    "\n",
    "# Tính 150% của chi phí trung bình nhóm và thêm cột này vào dataset\n",
    "df = df.withColumn(\"threshold\", 1.5 * F.col(\"criticality_avg_annual_cost\"))\n",
    "\n",
    "df = df.withColumn(\n",
    "    \"maintenance_cost_condition_score\",\n",
    "    F.when(F.col(\"cumulative_maintenance_cost\") / F.col(\"warranty_period_years\") > F.col(\"threshold\"), 10).otherwise(0)\n",
    ")\n",
    "\n",
    "final_columns = initial_columns + [\"criticality_avg_annual_cost\", \"threshold\", \"maintenance_cost_condition_score\"]\n",
    "df = df.select(final_columns)\n",
    "\n",
    "# Calculate the total operational score by summing up all condition scores\n",
    "df = df.withColumn(\n",
    "    \"operational_score\",\n",
    "    col(\"age_condition_score\") + col(\"downtime_condition_score\") + col(\"maintenance_condition_score\") + col(\"environment_condition_score\") + col(\"maintenance_cost_condition_score\")\n",
    ")"
   ],
   "id": "3c0cb2559d0ea07a",
   "outputs": [],
   "execution_count": 87
  },
  {
   "metadata": {
    "ExecuteTime": {
     "end_time": "2024-11-13T06:05:35.457506Z",
     "start_time": "2024-11-13T06:05:01.789253Z"
    }
   },
   "cell_type": "code",
   "source": [
    "columns = [\n",
    "    \"age_condition_score\",\n",
    "    \"downtime_condition_score\",\n",
    "    \"maintenance_condition_score\",\n",
    "    \"environment_condition_score\",\n",
    "    \"maintenance_cost_condition_score\",\n",
    "    \"operational_score\",\n",
    "    \"alert_score\"\n",
    "]\n",
    "\n",
    "for col in columns:\n",
    "    result = (\n",
    "        df.groupBy(col)\n",
    "        .agg(\n",
    "            F.count(col).alias(\"count\"),\n",
    "            (F.count(col) / df.count() * 100).alias(\"percentage\")\n",
    "        )\n",
    "        .orderBy(col)\n",
    "    )\n",
    "    print(f\"Statistics for column: {col}\")\n",
    "    result.show()"
   ],
   "id": "f54cef4e7a561823",
   "outputs": [
    {
     "name": "stdout",
     "output_type": "stream",
     "text": [
      "Statistics for column: age_condition_score\n",
      "+-------------------+-------+-----------------+\n",
      "|age_condition_score|  count|       percentage|\n",
      "+-------------------+-------+-----------------+\n",
      "|                  0|3869397|96.00831010703244|\n",
      "|                 10| 160876|3.991689892967548|\n",
      "+-------------------+-------+-----------------+\n",
      "\n",
      "Statistics for column: downtime_condition_score\n",
      "+------------------------+-------+------------------+\n",
      "|downtime_condition_score|  count|        percentage|\n",
      "+------------------------+-------+------------------+\n",
      "|                       0| 977399|24.251434083993814|\n",
      "|                      10|3052874| 75.74856591600619|\n",
      "+------------------------+-------+------------------+\n",
      "\n",
      "Statistics for column: maintenance_condition_score\n",
      "+---------------------------+-------+------------------+\n",
      "|maintenance_condition_score|  count|        percentage|\n",
      "+---------------------------+-------+------------------+\n",
      "|                          0|2455724| 60.93195175612173|\n",
      "|                         10|1574549|39.068048243878266|\n",
      "+---------------------------+-------+------------------+\n",
      "\n",
      "Statistics for column: environment_condition_score\n",
      "+---------------------------+-------+------------------+\n",
      "|environment_condition_score|  count|        percentage|\n",
      "+---------------------------+-------+------------------+\n",
      "|                          0|3020527| 74.94596519888354|\n",
      "|                         10|1009746|25.054034801116448|\n",
      "+---------------------------+-------+------------------+\n",
      "\n",
      "Statistics for column: maintenance_cost_condition_score\n",
      "+--------------------------------+-------+------------------+\n",
      "|maintenance_cost_condition_score|  count|        percentage|\n",
      "+--------------------------------+-------+------------------+\n",
      "|                               0|3223836| 79.99051180900152|\n",
      "|                              10| 806437|20.009488190998475|\n",
      "+--------------------------------+-------+------------------+\n",
      "\n",
      "Statistics for column: operational_score\n",
      "+-----------------+-------+-------------------+\n",
      "|operational_score|  count|         percentage|\n",
      "+-----------------+-------+-------------------+\n",
      "|                0| 343310|   8.51828151591716|\n",
      "|               10|1502501|  37.28037778086001|\n",
      "|               20|1534628|  38.07751981069272|\n",
      "|               30| 569181| 14.122641319831189|\n",
      "|               40|  78083| 1.9374121802666966|\n",
      "|               50|   2570|0.06376739243222482|\n",
      "+-----------------+-------+-------------------+\n",
      "\n",
      "Statistics for column: alert_score\n",
      "+-----------+-------+------------------+\n",
      "|alert_score|  count|        percentage|\n",
      "+-----------+-------+------------------+\n",
      "|          0|2417494| 59.98338077842369|\n",
      "|         30| 989595|24.554043857574907|\n",
      "|         50| 623184|15.462575364001395|\n",
      "+-----------+-------+------------------+\n",
      "\n"
     ]
    }
   ],
   "execution_count": 88
  },
  {
   "metadata": {
    "ExecuteTime": {
     "end_time": "2024-11-13T06:05:42.709414Z",
     "start_time": "2024-11-13T06:05:35.468023Z"
    }
   },
   "cell_type": "code",
   "source": [
    "from pyspark.sql.functions import when, col\n",
    "# Calculate the total score by adding alert_score and operational_score\n",
    "df = df.withColumn(\"total_score\", col(\"alert_score\") + col(\"operational_score\"))\n",
    "\n",
    "# Define the \"broken\" status based on total_score\n",
    "df = df.withColumn(\n",
    "    \"maintenance_needed\",\n",
    "    when(col(\"total_score\") >= 60, \"Maintenance required\").otherwise(\"No maintenance required\")\n",
    ")\n",
    "\n",
    "# Calculate the total count of rows\n",
    "total_count = df.count()\n",
    "\n",
    "df_counts = df.groupBy(\"maintenance_needed\").count()\n",
    "\n",
    "# Calculate the percentage for each category\n",
    "df_percentage = df_counts.withColumn(\"percentage\", (col(\"count\") / total_count) * 100)\n",
    "\n",
    "# Show the result\n",
    "df_percentage.select(\"maintenance_needed\", \"count\", \"percentage\").show(truncate=False)"
   ],
   "id": "9cbf67baf44d8b27",
   "outputs": [
    {
     "name": "stdout",
     "output_type": "stream",
     "text": [
      "+-----------------------+-------+----------------+\n",
      "|maintenance_needed     |count  |percentage      |\n",
      "+-----------------------+-------+----------------+\n",
      "|Maintenance required   |721338 |17.8979935106133|\n",
      "|No maintenance required|3308935|82.1020064893867|\n",
      "+-----------------------+-------+----------------+\n",
      "\n"
     ]
    }
   ],
   "execution_count": 89
  },
  {
   "metadata": {
    "ExecuteTime": {
     "end_time": "2024-11-13T06:05:42.739320Z",
     "start_time": "2024-11-13T06:05:42.726814Z"
    }
   },
   "cell_type": "code",
   "source": "df.printSchema()",
   "id": "572a0d0203694f33",
   "outputs": [
    {
     "name": "stdout",
     "output_type": "stream",
     "text": [
      "root\n",
      " |-- equipment_id: integer (nullable = true)\n",
      " |-- timestamp: timestamp (nullable = true)\n",
      " |-- temperature: double (nullable = true)\n",
      " |-- vibration: double (nullable = true)\n",
      " |-- pressure: double (nullable = true)\n",
      " |-- rotational_speed: double (nullable = true)\n",
      " |-- power_output: double (nullable = true)\n",
      " |-- noise_level: double (nullable = true)\n",
      " |-- voltage: double (nullable = true)\n",
      " |-- current: double (nullable = true)\n",
      " |-- oil_viscosity: double (nullable = true)\n",
      " |-- model: string (nullable = true)\n",
      " |-- manufacturer: string (nullable = true)\n",
      " |-- installation_date: timestamp (nullable = true)\n",
      " |-- max_temperature: double (nullable = true)\n",
      " |-- max_pressure: double (nullable = true)\n",
      " |-- max_rotational_speed: double (nullable = true)\n",
      " |-- expected_lifetime_years: double (nullable = true)\n",
      " |-- warranty_period_years: integer (nullable = true)\n",
      " |-- last_major_overhaul: timestamp (nullable = true)\n",
      " |-- location: string (nullable = true)\n",
      " |-- criticality: string (nullable = true)\n",
      " |-- maintenance_type: string (nullable = true)\n",
      " |-- description: string (nullable = true)\n",
      " |-- technician_id: integer (nullable = true)\n",
      " |-- duration_hours: double (nullable = true)\n",
      " |-- cost: double (nullable = true)\n",
      " |-- parts_replaced: string (nullable = true)\n",
      " |-- maintenance_result: string (nullable = true)\n",
      " |-- maintenance_date: timestamp (nullable = true)\n",
      " |-- production_rate: double (nullable = true)\n",
      " |-- operating_hours: double (nullable = true)\n",
      " |-- downtime_hours: double (nullable = true)\n",
      " |-- operator_id: integer (nullable = true)\n",
      " |-- product_type: string (nullable = true)\n",
      " |-- raw_material_quality: string (nullable = true)\n",
      " |-- ambient_temperature: double (nullable = true)\n",
      " |-- ambient_humidity: double (nullable = true)\n",
      " |-- operation_date: timestamp (nullable = true)\n",
      " |-- days_since_maintenance: integer (nullable = true)\n",
      " |-- equipment_age_days: integer (nullable = true)\n",
      " |-- days_since_overhaul: integer (nullable = true)\n",
      " |-- temp_pct_of_max: double (nullable = true)\n",
      " |-- pressure_pct_of_max: double (nullable = true)\n",
      " |-- speed_pct_of_max: double (nullable = true)\n",
      " |-- cumulative_maintenance_cost: double (nullable = true)\n",
      " |-- cumulative_operating_hours: double (nullable = true)\n",
      " |-- estimated_rul: double (nullable = true)\n",
      " |-- criticality_encoded: double (nullable = true)\n",
      " |-- maintenance_type_encoded: double (nullable = true)\n",
      " |-- maintenance_result_encoded: double (nullable = true)\n",
      " |-- product_type_encoded: double (nullable = true)\n",
      " |-- raw_material_quality_encoded: double (nullable = true)\n",
      " |-- parts_replaced_encoded: double (nullable = true)\n",
      " |-- temperature_alert: string (nullable = true)\n",
      " |-- pressure_alert: string (nullable = true)\n",
      " |-- rotational_speed_alert: string (nullable = true)\n",
      " |-- power_output_alert: string (nullable = true)\n",
      " |-- noise_level_alert: string (nullable = true)\n",
      " |-- voltage_alert: string (nullable = true)\n",
      " |-- current_alert: string (nullable = true)\n",
      " |-- oil_viscosity_alert: string (nullable = true)\n",
      " |-- alert: string (nullable = true)\n",
      " |-- alert_score: integer (nullable = true)\n",
      " |-- age_condition_score: integer (nullable = false)\n",
      " |-- downtime_condition_score: integer (nullable = false)\n",
      " |-- maintenance_condition_score: integer (nullable = false)\n",
      " |-- environment_condition_score: integer (nullable = false)\n",
      " |-- criticality_avg_annual_cost: double (nullable = true)\n",
      " |-- threshold: double (nullable = true)\n",
      " |-- maintenance_cost_condition_score: integer (nullable = false)\n",
      " |-- operational_score: integer (nullable = false)\n",
      " |-- total_score: integer (nullable = true)\n",
      " |-- maintenance_needed: string (nullable = false)\n",
      "\n"
     ]
    }
   ],
   "execution_count": 90
  },
  {
   "metadata": {
    "ExecuteTime": {
     "end_time": "2024-11-13T06:06:47.508042Z",
     "start_time": "2024-11-13T06:05:42.808477Z"
    }
   },
   "cell_type": "code",
   "source": [
    " # Save the resulting dataframe\n",
    "df.coalesce(1).write.mode(\"overwrite\").option(\"header\", \"true\").csv(\"C:/Users/KhanhChang/PycharmProjects/Predictive-Maintenance-System-using-Apache-Spark/Maintenance Recommendation System/dataset_maintenance_recommendation\")"
   ],
   "id": "eba713718b09bd4a",
   "outputs": [],
   "execution_count": 91
  },
  {
   "metadata": {
    "ExecuteTime": {
     "end_time": "2024-11-13T06:07:01.622782Z",
     "start_time": "2024-11-13T06:07:01.619358Z"
    }
   },
   "cell_type": "code",
   "source": "",
   "id": "7414fe19f40fba75",
   "outputs": [],
   "execution_count": null
  }
 ],
 "metadata": {
  "kernelspec": {
   "display_name": "Python 3",
   "language": "python",
   "name": "python3"
  },
  "language_info": {
   "codemirror_mode": {
    "name": "ipython",
    "version": 2
   },
   "file_extension": ".py",
   "mimetype": "text/x-python",
   "name": "python",
   "nbconvert_exporter": "python",
   "pygments_lexer": "ipython2",
   "version": "2.7.6"
  }
 },
 "nbformat": 4,
 "nbformat_minor": 5
}
